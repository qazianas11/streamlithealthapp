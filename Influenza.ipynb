{
 "cells": [
  {
   "cell_type": "code",
   "execution_count": 1,
   "metadata": {},
   "outputs": [],
   "source": [
    "import numpy as np\n",
    "import pandas as pd\n",
    "#cp_data_set = pd.read_csv(\"final_version_influenza_dataset.csv\", encoding='utf-8-sig')\n",
    "\n",
    "cp_data_set=pd.read_csv(\"update_influenza_dataset.csv\")\n",
    "cp_data_set1=cp_data_set"
   ]
  },
  {
   "cell_type": "code",
   "execution_count": 2,
   "metadata": {},
   "outputs": [
    {
     "data": {
      "text/html": [
       "<div>\n",
       "<style scoped>\n",
       "    .dataframe tbody tr th:only-of-type {\n",
       "        vertical-align: middle;\n",
       "    }\n",
       "\n",
       "    .dataframe tbody tr th {\n",
       "        vertical-align: top;\n",
       "    }\n",
       "\n",
       "    .dataframe thead th {\n",
       "        text-align: right;\n",
       "    }\n",
       "</style>\n",
       "<table border=\"1\" class=\"dataframe\">\n",
       "  <thead>\n",
       "    <tr style=\"text-align: right;\">\n",
       "      <th></th>\n",
       "      <th>Unnamed: 0</th>\n",
       "      <th>Gender</th>\n",
       "      <th>age</th>\n",
       "      <th>wbc</th>\n",
       "      <th>hgb</th>\n",
       "      <th>rbc</th>\n",
       "      <th>plt</th>\n",
       "      <th>ly1</th>\n",
       "      <th>mid</th>\n",
       "      <th>grand</th>\n",
       "      <th>hct</th>\n",
       "      <th>mcv</th>\n",
       "      <th>mch</th>\n",
       "      <th>mchc</th>\n",
       "      <th>influenza_result</th>\n",
       "    </tr>\n",
       "  </thead>\n",
       "  <tbody>\n",
       "    <tr>\n",
       "      <th>0</th>\n",
       "      <td>231</td>\n",
       "      <td>0.0</td>\n",
       "      <td>71</td>\n",
       "      <td>5.90</td>\n",
       "      <td>12.6</td>\n",
       "      <td>4.90</td>\n",
       "      <td>279.0</td>\n",
       "      <td>40.7</td>\n",
       "      <td>10.50</td>\n",
       "      <td>48.8</td>\n",
       "      <td>34.9</td>\n",
       "      <td>77.2</td>\n",
       "      <td>27.90</td>\n",
       "      <td>36.1</td>\n",
       "      <td>0</td>\n",
       "    </tr>\n",
       "    <tr>\n",
       "      <th>1</th>\n",
       "      <td>374</td>\n",
       "      <td>1.0</td>\n",
       "      <td>13</td>\n",
       "      <td>9.07</td>\n",
       "      <td>15.7</td>\n",
       "      <td>4.85</td>\n",
       "      <td>441.0</td>\n",
       "      <td>59.7</td>\n",
       "      <td>3.49</td>\n",
       "      <td>36.8</td>\n",
       "      <td>37.9</td>\n",
       "      <td>80.2</td>\n",
       "      <td>27.96</td>\n",
       "      <td>32.7</td>\n",
       "      <td>1</td>\n",
       "    </tr>\n",
       "  </tbody>\n",
       "</table>\n",
       "</div>"
      ],
      "text/plain": [
       "   Unnamed: 0  Gender  age    wbc   hgb   rbc    plt   ly1    mid  grand  \\\n",
       "0         231     0.0    71  5.90  12.6  4.90  279.0  40.7  10.50   48.8   \n",
       "1         374     1.0    13  9.07  15.7  4.85  441.0  59.7   3.49   36.8   \n",
       "\n",
       "    hct   mcv    mch  mchc  influenza_result  \n",
       "0  34.9  77.2  27.90  36.1                 0  \n",
       "1  37.9  80.2  27.96  32.7                 1  "
      ]
     },
     "execution_count": 2,
     "metadata": {},
     "output_type": "execute_result"
    }
   ],
   "source": [
    "cp_data_set2 = cp_data_set1.sample(frac=1, random_state=42).reset_index(drop=True)\n",
    "cp_data_set2.head(2)"
   ]
  },
  {
   "cell_type": "code",
   "execution_count": 3,
   "metadata": {},
   "outputs": [
    {
     "data": {
      "text/html": [
       "<div>\n",
       "<style scoped>\n",
       "    .dataframe tbody tr th:only-of-type {\n",
       "        vertical-align: middle;\n",
       "    }\n",
       "\n",
       "    .dataframe tbody tr th {\n",
       "        vertical-align: top;\n",
       "    }\n",
       "\n",
       "    .dataframe thead th {\n",
       "        text-align: right;\n",
       "    }\n",
       "</style>\n",
       "<table border=\"1\" class=\"dataframe\">\n",
       "  <thead>\n",
       "    <tr style=\"text-align: right;\">\n",
       "      <th></th>\n",
       "      <th>Gender</th>\n",
       "      <th>age</th>\n",
       "      <th>wbc</th>\n",
       "      <th>hgb</th>\n",
       "      <th>rbc</th>\n",
       "      <th>plt</th>\n",
       "      <th>ly1</th>\n",
       "      <th>mid</th>\n",
       "      <th>grand</th>\n",
       "      <th>hct</th>\n",
       "      <th>mcv</th>\n",
       "      <th>mch</th>\n",
       "      <th>mchc</th>\n",
       "      <th>influenza_result</th>\n",
       "    </tr>\n",
       "  </thead>\n",
       "  <tbody>\n",
       "    <tr>\n",
       "      <th>0</th>\n",
       "      <td>0.0</td>\n",
       "      <td>71</td>\n",
       "      <td>5.90</td>\n",
       "      <td>12.6</td>\n",
       "      <td>4.90</td>\n",
       "      <td>279.0</td>\n",
       "      <td>40.7</td>\n",
       "      <td>10.50</td>\n",
       "      <td>48.8</td>\n",
       "      <td>34.9</td>\n",
       "      <td>77.2</td>\n",
       "      <td>27.90</td>\n",
       "      <td>36.1</td>\n",
       "      <td>0</td>\n",
       "    </tr>\n",
       "    <tr>\n",
       "      <th>1</th>\n",
       "      <td>1.0</td>\n",
       "      <td>13</td>\n",
       "      <td>9.07</td>\n",
       "      <td>15.7</td>\n",
       "      <td>4.85</td>\n",
       "      <td>441.0</td>\n",
       "      <td>59.7</td>\n",
       "      <td>3.49</td>\n",
       "      <td>36.8</td>\n",
       "      <td>37.9</td>\n",
       "      <td>80.2</td>\n",
       "      <td>27.96</td>\n",
       "      <td>32.7</td>\n",
       "      <td>1</td>\n",
       "    </tr>\n",
       "    <tr>\n",
       "      <th>2</th>\n",
       "      <td>0.0</td>\n",
       "      <td>11</td>\n",
       "      <td>4.60</td>\n",
       "      <td>16.6</td>\n",
       "      <td>5.89</td>\n",
       "      <td>178.0</td>\n",
       "      <td>31.6</td>\n",
       "      <td>10.50</td>\n",
       "      <td>57.9</td>\n",
       "      <td>45.1</td>\n",
       "      <td>76.9</td>\n",
       "      <td>28.30</td>\n",
       "      <td>36.8</td>\n",
       "      <td>0</td>\n",
       "    </tr>\n",
       "  </tbody>\n",
       "</table>\n",
       "</div>"
      ],
      "text/plain": [
       "   Gender  age    wbc   hgb   rbc    plt   ly1    mid  grand   hct   mcv  \\\n",
       "0     0.0    71  5.90  12.6  4.90  279.0  40.7  10.50   48.8  34.9  77.2   \n",
       "1     1.0    13  9.07  15.7  4.85  441.0  59.7   3.49   36.8  37.9  80.2   \n",
       "2     0.0    11  4.60  16.6  5.89  178.0  31.6  10.50   57.9  45.1  76.9   \n",
       "\n",
       "     mch  mchc  influenza_result  \n",
       "0  27.90  36.1                 0  \n",
       "1  27.96  32.7                 1  \n",
       "2  28.30  36.8                 0  "
      ]
     },
     "execution_count": 3,
     "metadata": {},
     "output_type": "execute_result"
    }
   ],
   "source": [
    "cp_data_set.columns\n",
    "cp_data_set2=cp_data_set2.drop(columns='Unnamed: 0')\n",
    "cp_data_set2.head(3)\n"
   ]
  },
  {
   "cell_type": "code",
   "execution_count": 4,
   "metadata": {},
   "outputs": [
    {
     "data": {
      "text/plain": [
       "Gender              1\n",
       "age                 0\n",
       "wbc                 0\n",
       "hgb                 0\n",
       "rbc                 0\n",
       "plt                 0\n",
       "ly1                 0\n",
       "mid                 0\n",
       "grand               0\n",
       "hct                 0\n",
       "mcv                 0\n",
       "mch                 0\n",
       "mchc                0\n",
       "influenza_result    0\n",
       "dtype: int64"
      ]
     },
     "execution_count": 4,
     "metadata": {},
     "output_type": "execute_result"
    }
   ],
   "source": [
    "cp_data_set2.isnull().sum()"
   ]
  },
  {
   "cell_type": "code",
   "execution_count": 5,
   "metadata": {},
   "outputs": [
    {
     "data": {
      "text/plain": [
       "(555, 14)"
      ]
     },
     "execution_count": 5,
     "metadata": {},
     "output_type": "execute_result"
    }
   ],
   "source": [
    "cp_data_set2.shape"
   ]
  },
  {
   "cell_type": "code",
   "execution_count": 6,
   "metadata": {},
   "outputs": [
    {
     "data": {
      "text/plain": [
       "(554, 14)"
      ]
     },
     "execution_count": 6,
     "metadata": {},
     "output_type": "execute_result"
    }
   ],
   "source": [
    "cp_data_set2=cp_data_set2.dropna()\n",
    "cp_data_set2.shape"
   ]
  },
  {
   "cell_type": "code",
   "execution_count": 7,
   "metadata": {},
   "outputs": [],
   "source": [
    "import sklearn\n",
    "from sklearn.linear_model import LogisticRegression\n",
    "from sklearn.tree import DecisionTreeClassifier\n",
    "from sklearn.tree import DecisionTreeClassifier\n",
    "from sklearn.ensemble import RandomForestClassifier\n",
    "from sklearn.svm import SVC\n",
    "from sklearn.neighbors import KNeighborsClassifier\n",
    "from sklearn.model_selection import train_test_split\n",
    "from sklearn.metrics import r2_score,mean_absolute_error,mean_squared_error\n"
   ]
  },
  {
   "cell_type": "code",
   "execution_count": 8,
   "metadata": {},
   "outputs": [],
   "source": [
    "\n",
    "#shortend names\n",
    "lr=LogisticRegression(random_state=0,max_iter=20)\n",
    "dt=DecisionTreeClassifier(max_depth=2)\n",
    "svr=SVC()\n",
    "knn=KNeighborsClassifier()\n",
    "rf=RandomForestClassifier(max_depth=4,n_estimators=6)"
   ]
  },
  {
   "cell_type": "code",
   "execution_count": 9,
   "metadata": {},
   "outputs": [
    {
     "data": {
      "text/html": [
       "<div>\n",
       "<style scoped>\n",
       "    .dataframe tbody tr th:only-of-type {\n",
       "        vertical-align: middle;\n",
       "    }\n",
       "\n",
       "    .dataframe tbody tr th {\n",
       "        vertical-align: top;\n",
       "    }\n",
       "\n",
       "    .dataframe thead th {\n",
       "        text-align: right;\n",
       "    }\n",
       "</style>\n",
       "<table border=\"1\" class=\"dataframe\">\n",
       "  <thead>\n",
       "    <tr style=\"text-align: right;\">\n",
       "      <th></th>\n",
       "      <th>Gender</th>\n",
       "      <th>age</th>\n",
       "      <th>wbc</th>\n",
       "      <th>hgb</th>\n",
       "      <th>rbc</th>\n",
       "      <th>plt</th>\n",
       "      <th>ly1</th>\n",
       "      <th>mid</th>\n",
       "      <th>grand</th>\n",
       "      <th>hct</th>\n",
       "      <th>mcv</th>\n",
       "      <th>mch</th>\n",
       "      <th>mchc</th>\n",
       "    </tr>\n",
       "  </thead>\n",
       "  <tbody>\n",
       "    <tr>\n",
       "      <th>0</th>\n",
       "      <td>0.0</td>\n",
       "      <td>71</td>\n",
       "      <td>5.90</td>\n",
       "      <td>12.6</td>\n",
       "      <td>4.90</td>\n",
       "      <td>279.0</td>\n",
       "      <td>40.7</td>\n",
       "      <td>10.50</td>\n",
       "      <td>48.80</td>\n",
       "      <td>34.9</td>\n",
       "      <td>77.2</td>\n",
       "      <td>27.90</td>\n",
       "      <td>36.10</td>\n",
       "    </tr>\n",
       "    <tr>\n",
       "      <th>1</th>\n",
       "      <td>1.0</td>\n",
       "      <td>13</td>\n",
       "      <td>9.07</td>\n",
       "      <td>15.7</td>\n",
       "      <td>4.85</td>\n",
       "      <td>441.0</td>\n",
       "      <td>59.7</td>\n",
       "      <td>3.49</td>\n",
       "      <td>36.80</td>\n",
       "      <td>37.9</td>\n",
       "      <td>80.2</td>\n",
       "      <td>27.96</td>\n",
       "      <td>32.70</td>\n",
       "    </tr>\n",
       "    <tr>\n",
       "      <th>2</th>\n",
       "      <td>0.0</td>\n",
       "      <td>11</td>\n",
       "      <td>4.60</td>\n",
       "      <td>16.6</td>\n",
       "      <td>5.89</td>\n",
       "      <td>178.0</td>\n",
       "      <td>31.6</td>\n",
       "      <td>10.50</td>\n",
       "      <td>57.90</td>\n",
       "      <td>45.1</td>\n",
       "      <td>76.9</td>\n",
       "      <td>28.30</td>\n",
       "      <td>36.80</td>\n",
       "    </tr>\n",
       "    <tr>\n",
       "      <th>3</th>\n",
       "      <td>1.0</td>\n",
       "      <td>41</td>\n",
       "      <td>8.93</td>\n",
       "      <td>14.4</td>\n",
       "      <td>4.80</td>\n",
       "      <td>391.0</td>\n",
       "      <td>58.7</td>\n",
       "      <td>2.03</td>\n",
       "      <td>39.26</td>\n",
       "      <td>44.5</td>\n",
       "      <td>84.6</td>\n",
       "      <td>27.04</td>\n",
       "      <td>32.99</td>\n",
       "    </tr>\n",
       "    <tr>\n",
       "      <th>4</th>\n",
       "      <td>0.0</td>\n",
       "      <td>28</td>\n",
       "      <td>7.60</td>\n",
       "      <td>16.1</td>\n",
       "      <td>5.99</td>\n",
       "      <td>318.0</td>\n",
       "      <td>17.3</td>\n",
       "      <td>5.30</td>\n",
       "      <td>77.40</td>\n",
       "      <td>43.7</td>\n",
       "      <td>73.0</td>\n",
       "      <td>26.80</td>\n",
       "      <td>36.80</td>\n",
       "    </tr>\n",
       "  </tbody>\n",
       "</table>\n",
       "</div>"
      ],
      "text/plain": [
       "   Gender  age    wbc   hgb   rbc    plt   ly1    mid  grand   hct   mcv  \\\n",
       "0     0.0    71  5.90  12.6  4.90  279.0  40.7  10.50  48.80  34.9  77.2   \n",
       "1     1.0    13  9.07  15.7  4.85  441.0  59.7   3.49  36.80  37.9  80.2   \n",
       "2     0.0    11  4.60  16.6  5.89  178.0  31.6  10.50  57.90  45.1  76.9   \n",
       "3     1.0    41  8.93  14.4  4.80  391.0  58.7   2.03  39.26  44.5  84.6   \n",
       "4     0.0    28  7.60  16.1  5.99  318.0  17.3   5.30  77.40  43.7  73.0   \n",
       "\n",
       "     mch   mchc  \n",
       "0  27.90  36.10  \n",
       "1  27.96  32.70  \n",
       "2  28.30  36.80  \n",
       "3  27.04  32.99  \n",
       "4  26.80  36.80  "
      ]
     },
     "execution_count": 9,
     "metadata": {},
     "output_type": "execute_result"
    }
   ],
   "source": [
    "\n",
    "influenza_independent_variables=cp_data_set2.iloc[:,0:13]\n",
    "influenza_independent_variables.head()\n"
   ]
  },
  {
   "cell_type": "code",
   "execution_count": 10,
   "metadata": {},
   "outputs": [
    {
     "data": {
      "text/html": [
       "<div>\n",
       "<style scoped>\n",
       "    .dataframe tbody tr th:only-of-type {\n",
       "        vertical-align: middle;\n",
       "    }\n",
       "\n",
       "    .dataframe tbody tr th {\n",
       "        vertical-align: top;\n",
       "    }\n",
       "\n",
       "    .dataframe thead th {\n",
       "        text-align: right;\n",
       "    }\n",
       "</style>\n",
       "<table border=\"1\" class=\"dataframe\">\n",
       "  <thead>\n",
       "    <tr style=\"text-align: right;\">\n",
       "      <th></th>\n",
       "      <th>influenza_result</th>\n",
       "    </tr>\n",
       "  </thead>\n",
       "  <tbody>\n",
       "    <tr>\n",
       "      <th>0</th>\n",
       "      <td>0</td>\n",
       "    </tr>\n",
       "    <tr>\n",
       "      <th>1</th>\n",
       "      <td>1</td>\n",
       "    </tr>\n",
       "    <tr>\n",
       "      <th>2</th>\n",
       "      <td>0</td>\n",
       "    </tr>\n",
       "    <tr>\n",
       "      <th>3</th>\n",
       "      <td>1</td>\n",
       "    </tr>\n",
       "    <tr>\n",
       "      <th>4</th>\n",
       "      <td>0</td>\n",
       "    </tr>\n",
       "  </tbody>\n",
       "</table>\n",
       "</div>"
      ],
      "text/plain": [
       "   influenza_result\n",
       "0                 0\n",
       "1                 1\n",
       "2                 0\n",
       "3                 1\n",
       "4                 0"
      ]
     },
     "execution_count": 10,
     "metadata": {},
     "output_type": "execute_result"
    }
   ],
   "source": [
    "influenza_dependend_variables=cp_data_set2.iloc[:,13:]\n",
    "influenza_dependend_variables.head()"
   ]
  },
  {
   "cell_type": "code",
   "execution_count": 11,
   "metadata": {},
   "outputs": [
    {
     "data": {
      "text/plain": [
       "1    326\n",
       "0    228\n",
       "Name: influenza_result, dtype: int64"
      ]
     },
     "execution_count": 11,
     "metadata": {},
     "output_type": "execute_result"
    }
   ],
   "source": [
    "cp_data_set2.influenza_result.value_counts()"
   ]
  },
  {
   "cell_type": "code",
   "execution_count": 12,
   "metadata": {},
   "outputs": [],
   "source": [
    "x_train,x_test,y_train,y_test=train_test_split(influenza_independent_variables,influenza_dependend_variables,test_size=0.2,random_state=42)\n",
    "from sklearn.metrics import accuracy_score,precision_score, recall_score, f1_score ,r2_score,r2_score"
   ]
  },
  {
   "cell_type": "code",
   "execution_count": 13,
   "metadata": {},
   "outputs": [],
   "source": [
    "\n",
    "#shortend names\n",
    "lr=LogisticRegression(random_state=0,max_iter=21,C=1.0,l1_ratio=.9)\n",
    "dt=DecisionTreeClassifier(max_depth=4)\n",
    "svr=SVC()\n",
    "knn=KNeighborsClassifier()\n",
    "rf=RandomForestClassifier(max_depth=2,n_estimators=3)"
   ]
  },
  {
   "cell_type": "code",
   "execution_count": 14,
   "metadata": {},
   "outputs": [
    {
     "name": "stdout",
     "output_type": "stream",
     "text": [
      "LogisticRegression(l1_ratio=0.9, max_iter=21, random_state=0) test score 1.0 train_score 0.9810708028885186\n",
      "LogisticRegression(l1_ratio=0.9, max_iter=21, random_state=0) Precision: 1.0\n",
      "LogisticRegression(l1_ratio=0.9, max_iter=21, random_state=0) Recall: 1.0\n",
      "LogisticRegression(l1_ratio=0.9, max_iter=21, random_state=0) F1-score: 1.0\n"
     ]
    },
    {
     "name": "stderr",
     "output_type": "stream",
     "text": [
      "c:\\Users\\Muhammad Faizan\\anaconda3\\envs\\streamlit\\lib\\site-packages\\sklearn\\linear_model\\_logistic.py:1165: UserWarning: l1_ratio parameter is only used when penalty is 'elasticnet'. Got (penalty=l2)\n",
      "  warnings.warn(\n",
      "c:\\Users\\Muhammad Faizan\\anaconda3\\envs\\streamlit\\lib\\site-packages\\sklearn\\utils\\validation.py:1143: DataConversionWarning: A column-vector y was passed when a 1d array was expected. Please change the shape of y to (n_samples, ), for example using ravel().\n",
      "  y = column_or_1d(y, warn=True)\n",
      "c:\\Users\\Muhammad Faizan\\anaconda3\\envs\\streamlit\\lib\\site-packages\\sklearn\\linear_model\\_logistic.py:458: ConvergenceWarning: lbfgs failed to converge (status=1):\n",
      "STOP: TOTAL NO. of ITERATIONS REACHED LIMIT.\n",
      "\n",
      "Increase the number of iterations (max_iter) or scale the data as shown in:\n",
      "    https://scikit-learn.org/stable/modules/preprocessing.html\n",
      "Please also refer to the documentation for alternative solver options:\n",
      "    https://scikit-learn.org/stable/modules/linear_model.html#logistic-regression\n",
      "  n_iter_i = _check_optimize_result(\n"
     ]
    }
   ],
   "source": [
    "for i in [lr]:\n",
    "    i.fit(x_train,y_train)\n",
    "    pred=i.predict(x_test)\n",
    "    test_score=r2_score(y_test,pred)\n",
    "    train_score=r2_score(y_train,i.predict(x_train))\n",
    "    precision = precision_score(y_test, pred)\n",
    "    recall = recall_score(y_test, pred)\n",
    "    f1 = f1_score(y_test, pred)\n",
    "\n",
    "# Print the evaluation metrics\n",
    "    print(i,\"test score\",test_score,\"train_score\",train_score)\n",
    "\n",
    "    print(i,'Precision:', precision)\n",
    "    print(i,'Recall:', recall)\n",
    "    print(i,'F1-score:', f1)"
   ]
  },
  {
   "cell_type": "code",
   "execution_count": null,
   "metadata": {},
   "outputs": [],
   "source": [
    "import joblib\n",
    "joblib.dump(dt, \"influenza_model.joblib\")"
   ]
  }
 ],
 "metadata": {
  "kernelspec": {
   "display_name": "Python 3.8.8 ('base')",
   "language": "python",
   "name": "python3"
  },
  "language_info": {
   "codemirror_mode": {
    "name": "ipython",
    "version": 3
   },
   "file_extension": ".py",
   "mimetype": "text/x-python",
   "name": "python",
   "nbconvert_exporter": "python",
   "pygments_lexer": "ipython3",
   "version": "3.10.9"
  },
  "orig_nbformat": 4,
  "vscode": {
   "interpreter": {
    "hash": "1e23beb0de8db459d45af43dbef23ad987056b7d264235de57943cbbf14c4dfb"
   }
  }
 },
 "nbformat": 4,
 "nbformat_minor": 2
}
