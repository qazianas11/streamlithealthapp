{
 "cells": [
  {
   "attachments": {},
   "cell_type": "markdown",
   "metadata": {},
   "source": [
    "# uti prediction model"
   ]
  },
  {
   "cell_type": "code",
   "execution_count": 83,
   "metadata": {},
   "outputs": [],
   "source": [
    "import numpy as np\n",
    "import pandas as pd\n",
    "uti_data_set=pd.read_excel(\"update_uti_dataset.xlsx\")"
   ]
  },
  {
   "cell_type": "code",
   "execution_count": 84,
   "metadata": {},
   "outputs": [
    {
     "data": {
      "text/html": [
       "<div>\n",
       "<style scoped>\n",
       "    .dataframe tbody tr th:only-of-type {\n",
       "        vertical-align: middle;\n",
       "    }\n",
       "\n",
       "    .dataframe tbody tr th {\n",
       "        vertical-align: top;\n",
       "    }\n",
       "\n",
       "    .dataframe thead th {\n",
       "        text-align: right;\n",
       "    }\n",
       "</style>\n",
       "<table border=\"1\" class=\"dataframe\">\n",
       "  <thead>\n",
       "    <tr style=\"text-align: right;\">\n",
       "      <th></th>\n",
       "      <th>Gender</th>\n",
       "      <th>age</th>\n",
       "      <th>wbc</th>\n",
       "      <th>hgb</th>\n",
       "      <th>rbc</th>\n",
       "      <th>plt</th>\n",
       "      <th>lym</th>\n",
       "      <th>mid</th>\n",
       "      <th>grand</th>\n",
       "      <th>hct</th>\n",
       "      <th>mcv</th>\n",
       "      <th>mch</th>\n",
       "      <th>mchc</th>\n",
       "      <th>uti_result</th>\n",
       "    </tr>\n",
       "  </thead>\n",
       "  <tbody>\n",
       "    <tr>\n",
       "      <th>0</th>\n",
       "      <td>1.0</td>\n",
       "      <td>51</td>\n",
       "      <td>6.5</td>\n",
       "      <td>14.0</td>\n",
       "      <td>5.37</td>\n",
       "      <td>144.0</td>\n",
       "      <td>19.3</td>\n",
       "      <td>4.7</td>\n",
       "      <td>76.0</td>\n",
       "      <td>46.9</td>\n",
       "      <td>87.2</td>\n",
       "      <td>26.0</td>\n",
       "      <td>29.8</td>\n",
       "      <td>0</td>\n",
       "    </tr>\n",
       "    <tr>\n",
       "      <th>1</th>\n",
       "      <td>0.0</td>\n",
       "      <td>17</td>\n",
       "      <td>7.3</td>\n",
       "      <td>11.1</td>\n",
       "      <td>4.92</td>\n",
       "      <td>222.0</td>\n",
       "      <td>31.1</td>\n",
       "      <td>6.5</td>\n",
       "      <td>62.4</td>\n",
       "      <td>38.0</td>\n",
       "      <td>77.2</td>\n",
       "      <td>22.7</td>\n",
       "      <td>29.3</td>\n",
       "      <td>0</td>\n",
       "    </tr>\n",
       "  </tbody>\n",
       "</table>\n",
       "</div>"
      ],
      "text/plain": [
       "   Gender  age   wbc   hgb   rbc    plt   lym  mid  grand   hct   mcv   mch  \\\n",
       "0     1.0    51  6.5  14.0  5.37  144.0  19.3  4.7   76.0  46.9  87.2  26.0   \n",
       "1     0.0    17  7.3  11.1  4.92  222.0  31.1  6.5   62.4  38.0  77.2  22.7   \n",
       "\n",
       "   mchc  uti_result  \n",
       "0  29.8           0  \n",
       "1  29.3           0  "
      ]
     },
     "execution_count": 84,
     "metadata": {},
     "output_type": "execute_result"
    }
   ],
   "source": [
    "uti_data_set1=uti_data_set\n",
    "uti_data_set1.head(2)"
   ]
  },
  {
   "cell_type": "code",
   "execution_count": 85,
   "metadata": {},
   "outputs": [
    {
     "data": {
      "text/plain": [
       "Gender        1\n",
       "age           0\n",
       "wbc           0\n",
       "hgb           0\n",
       "rbc           0\n",
       "plt           0\n",
       "lym           0\n",
       "mid           0\n",
       "grand         0\n",
       "hct           0\n",
       "mcv           0\n",
       "mch           0\n",
       "mchc          0\n",
       "uti_result    0\n",
       "dtype: int64"
      ]
     },
     "execution_count": 85,
     "metadata": {},
     "output_type": "execute_result"
    }
   ],
   "source": [
    "uti_data_set1.isnull().sum()\n"
   ]
  },
  {
   "cell_type": "code",
   "execution_count": 86,
   "metadata": {},
   "outputs": [],
   "source": [
    "\n",
    "import sklearn\n",
    "from sklearn.linear_model import LogisticRegression\n",
    "from sklearn.tree import DecisionTreeClassifier\n",
    "from sklearn.tree import DecisionTreeClassifier\n",
    "from sklearn.svm import SVC\n",
    "from sklearn.neighbors import KNeighborsClassifier\n",
    "from sklearn.model_selection import train_test_split\n",
    "from sklearn.metrics import r2_score,mean_absolute_error,mean_squared_error\n",
    "from sklearn.ensemble import RandomForestClassifier\n"
   ]
  },
  {
   "cell_type": "code",
   "execution_count": 87,
   "metadata": {},
   "outputs": [],
   "source": [
    "uti_data_set1 = uti_data_set1.dropna()\n"
   ]
  },
  {
   "cell_type": "code",
   "execution_count": 88,
   "metadata": {},
   "outputs": [
    {
     "data": {
      "text/html": [
       "<div>\n",
       "<style scoped>\n",
       "    .dataframe tbody tr th:only-of-type {\n",
       "        vertical-align: middle;\n",
       "    }\n",
       "\n",
       "    .dataframe tbody tr th {\n",
       "        vertical-align: top;\n",
       "    }\n",
       "\n",
       "    .dataframe thead th {\n",
       "        text-align: right;\n",
       "    }\n",
       "</style>\n",
       "<table border=\"1\" class=\"dataframe\">\n",
       "  <thead>\n",
       "    <tr style=\"text-align: right;\">\n",
       "      <th></th>\n",
       "      <th>Gender</th>\n",
       "      <th>age</th>\n",
       "      <th>wbc</th>\n",
       "      <th>hgb</th>\n",
       "      <th>rbc</th>\n",
       "      <th>plt</th>\n",
       "      <th>lym</th>\n",
       "      <th>mid</th>\n",
       "      <th>grand</th>\n",
       "      <th>hct</th>\n",
       "      <th>mcv</th>\n",
       "      <th>mch</th>\n",
       "      <th>mchc</th>\n",
       "      <th>uti_result</th>\n",
       "    </tr>\n",
       "  </thead>\n",
       "  <tbody>\n",
       "    <tr>\n",
       "      <th>0</th>\n",
       "      <td>0.0</td>\n",
       "      <td>58</td>\n",
       "      <td>13.4</td>\n",
       "      <td>15.2</td>\n",
       "      <td>5.5</td>\n",
       "      <td>420.0</td>\n",
       "      <td>17.7</td>\n",
       "      <td>15.1</td>\n",
       "      <td>67.2</td>\n",
       "      <td>25.4</td>\n",
       "      <td>92.0</td>\n",
       "      <td>29.7</td>\n",
       "      <td>30.7</td>\n",
       "      <td>1</td>\n",
       "    </tr>\n",
       "    <tr>\n",
       "      <th>1</th>\n",
       "      <td>1.0</td>\n",
       "      <td>55</td>\n",
       "      <td>13.7</td>\n",
       "      <td>15.2</td>\n",
       "      <td>5.3</td>\n",
       "      <td>156.0</td>\n",
       "      <td>18.4</td>\n",
       "      <td>12.4</td>\n",
       "      <td>69.2</td>\n",
       "      <td>45.2</td>\n",
       "      <td>82.0</td>\n",
       "      <td>23.8</td>\n",
       "      <td>31.6</td>\n",
       "      <td>1</td>\n",
       "    </tr>\n",
       "  </tbody>\n",
       "</table>\n",
       "</div>"
      ],
      "text/plain": [
       "   Gender  age    wbc   hgb  rbc    plt   lym   mid  grand   hct   mcv   mch  \\\n",
       "0     0.0    58  13.4  15.2  5.5  420.0  17.7  15.1   67.2  25.4  92.0  29.7   \n",
       "1     1.0    55  13.7  15.2  5.3  156.0  18.4  12.4   69.2  45.2  82.0  23.8   \n",
       "\n",
       "   mchc  uti_result  \n",
       "0  30.7           1  \n",
       "1  31.6           1  "
      ]
     },
     "execution_count": 88,
     "metadata": {},
     "output_type": "execute_result"
    }
   ],
   "source": [
    "uti_data_set1= uti_data_set1.sample(frac=1, random_state=42).reset_index(drop=True)\n",
    "uti_data_set1.head(2)"
   ]
  },
  {
   "cell_type": "code",
   "execution_count": 89,
   "metadata": {},
   "outputs": [],
   "source": [
    "#shortend names\n",
    "\n",
    "lr=LogisticRegression()\n",
    "dt=DecisionTreeClassifier()\n",
    "svr=SVC()\n",
    "knn=KNeighborsClassifier()\n",
    "clf = RandomForestClassifier(n_estimators=6, max_depth=14,  random_state=1234)\n",
    "\n"
   ]
  },
  {
   "cell_type": "code",
   "execution_count": 90,
   "metadata": {},
   "outputs": [],
   "source": [
    "from sklearn.ensemble import RandomForestClassifier\n",
    "from sklearn.tree import DecisionTreeClassifier\n",
    "# rf=RandomForestClassifier()"
   ]
  },
  {
   "cell_type": "code",
   "execution_count": 91,
   "metadata": {},
   "outputs": [
    {
     "data": {
      "text/plain": [
       "Index(['Gender', 'age ', 'wbc', 'hgb', 'rbc', 'plt', 'lym', 'mid', 'grand',\n",
       "       'hct', 'mcv', 'mch', 'mchc', 'uti_result'],\n",
       "      dtype='object')"
      ]
     },
     "execution_count": 91,
     "metadata": {},
     "output_type": "execute_result"
    }
   ],
   "source": [
    "uti_data_set1.columns"
   ]
  },
  {
   "cell_type": "code",
   "execution_count": 92,
   "metadata": {},
   "outputs": [
    {
     "data": {
      "text/html": [
       "<div>\n",
       "<style scoped>\n",
       "    .dataframe tbody tr th:only-of-type {\n",
       "        vertical-align: middle;\n",
       "    }\n",
       "\n",
       "    .dataframe tbody tr th {\n",
       "        vertical-align: top;\n",
       "    }\n",
       "\n",
       "    .dataframe thead th {\n",
       "        text-align: right;\n",
       "    }\n",
       "</style>\n",
       "<table border=\"1\" class=\"dataframe\">\n",
       "  <thead>\n",
       "    <tr style=\"text-align: right;\">\n",
       "      <th></th>\n",
       "      <th>Gender</th>\n",
       "      <th>age</th>\n",
       "      <th>wbc</th>\n",
       "      <th>hgb</th>\n",
       "      <th>rbc</th>\n",
       "      <th>plt</th>\n",
       "      <th>lym</th>\n",
       "      <th>mid</th>\n",
       "      <th>grand</th>\n",
       "      <th>hct</th>\n",
       "      <th>mcv</th>\n",
       "      <th>mch</th>\n",
       "      <th>mchc</th>\n",
       "    </tr>\n",
       "  </thead>\n",
       "  <tbody>\n",
       "    <tr>\n",
       "      <th>0</th>\n",
       "      <td>0.0</td>\n",
       "      <td>58</td>\n",
       "      <td>13.4</td>\n",
       "      <td>15.2</td>\n",
       "      <td>5.5</td>\n",
       "      <td>420.0</td>\n",
       "      <td>17.7</td>\n",
       "      <td>15.1</td>\n",
       "      <td>67.2</td>\n",
       "      <td>25.4</td>\n",
       "      <td>92.0</td>\n",
       "      <td>29.7</td>\n",
       "      <td>30.7</td>\n",
       "    </tr>\n",
       "    <tr>\n",
       "      <th>1</th>\n",
       "      <td>1.0</td>\n",
       "      <td>55</td>\n",
       "      <td>13.7</td>\n",
       "      <td>15.2</td>\n",
       "      <td>5.3</td>\n",
       "      <td>156.0</td>\n",
       "      <td>18.4</td>\n",
       "      <td>12.4</td>\n",
       "      <td>69.2</td>\n",
       "      <td>45.2</td>\n",
       "      <td>82.0</td>\n",
       "      <td>23.8</td>\n",
       "      <td>31.6</td>\n",
       "    </tr>\n",
       "  </tbody>\n",
       "</table>\n",
       "</div>"
      ],
      "text/plain": [
       "   Gender  age    wbc   hgb  rbc    plt   lym   mid  grand   hct   mcv   mch  \\\n",
       "0     0.0    58  13.4  15.2  5.5  420.0  17.7  15.1   67.2  25.4  92.0  29.7   \n",
       "1     1.0    55  13.7  15.2  5.3  156.0  18.4  12.4   69.2  45.2  82.0  23.8   \n",
       "\n",
       "   mchc  \n",
       "0  30.7  \n",
       "1  31.6  "
      ]
     },
     "execution_count": 92,
     "metadata": {},
     "output_type": "execute_result"
    }
   ],
   "source": [
    "uti_independent_variables=uti_data_set1.iloc[:,0:13]\n",
    "uti_independent_variables.head(2)\n"
   ]
  },
  {
   "cell_type": "code",
   "execution_count": 93,
   "metadata": {},
   "outputs": [
    {
     "data": {
      "text/html": [
       "<div>\n",
       "<style scoped>\n",
       "    .dataframe tbody tr th:only-of-type {\n",
       "        vertical-align: middle;\n",
       "    }\n",
       "\n",
       "    .dataframe tbody tr th {\n",
       "        vertical-align: top;\n",
       "    }\n",
       "\n",
       "    .dataframe thead th {\n",
       "        text-align: right;\n",
       "    }\n",
       "</style>\n",
       "<table border=\"1\" class=\"dataframe\">\n",
       "  <thead>\n",
       "    <tr style=\"text-align: right;\">\n",
       "      <th></th>\n",
       "      <th>uti_result</th>\n",
       "    </tr>\n",
       "  </thead>\n",
       "  <tbody>\n",
       "    <tr>\n",
       "      <th>0</th>\n",
       "      <td>1</td>\n",
       "    </tr>\n",
       "    <tr>\n",
       "      <th>1</th>\n",
       "      <td>1</td>\n",
       "    </tr>\n",
       "    <tr>\n",
       "      <th>2</th>\n",
       "      <td>1</td>\n",
       "    </tr>\n",
       "    <tr>\n",
       "      <th>3</th>\n",
       "      <td>1</td>\n",
       "    </tr>\n",
       "    <tr>\n",
       "      <th>4</th>\n",
       "      <td>0</td>\n",
       "    </tr>\n",
       "  </tbody>\n",
       "</table>\n",
       "</div>"
      ],
      "text/plain": [
       "   uti_result\n",
       "0           1\n",
       "1           1\n",
       "2           1\n",
       "3           1\n",
       "4           0"
      ]
     },
     "execution_count": 93,
     "metadata": {},
     "output_type": "execute_result"
    }
   ],
   "source": [
    "uti_dependend_variables=uti_data_set1.iloc[:,13:]\n",
    "uti_dependend_variables.head()"
   ]
  },
  {
   "cell_type": "code",
   "execution_count": 94,
   "metadata": {},
   "outputs": [
    {
     "data": {
      "text/plain": [
       "Gender    0\n",
       "age       0\n",
       "wbc       0\n",
       "hgb       0\n",
       "rbc       0\n",
       "plt       0\n",
       "lym       0\n",
       "mid       0\n",
       "grand     0\n",
       "hct       0\n",
       "mcv       0\n",
       "mch       0\n",
       "mchc      0\n",
       "dtype: int64"
      ]
     },
     "execution_count": 94,
     "metadata": {},
     "output_type": "execute_result"
    }
   ],
   "source": [
    "uti_independent_variables.isnull().sum()"
   ]
  },
  {
   "cell_type": "code",
   "execution_count": 95,
   "metadata": {},
   "outputs": [
    {
     "data": {
      "text/plain": [
       "1    435\n",
       "0    394\n",
       "Name: uti_result, dtype: int64"
      ]
     },
     "execution_count": 95,
     "metadata": {},
     "output_type": "execute_result"
    }
   ],
   "source": [
    "uti_data_set1.uti_result.value_counts()"
   ]
  },
  {
   "cell_type": "code",
   "execution_count": 96,
   "metadata": {},
   "outputs": [],
   "source": [
    "x_train,x_test,y_train,y_test=train_test_split(uti_independent_variables,uti_dependend_variables,test_size=0.2,random_state=42)\n",
    "from sklearn.metrics import accuracy_score,precision_score, recall_score, f1_score ,r2_score,r2_score"
   ]
  },
  {
   "cell_type": "code",
   "execution_count": null,
   "metadata": {},
   "outputs": [],
   "source": [
    "#shortend names\n",
    "\n",
    "lr=LogisticRegression()\n",
    "dt=DecisionTreeClassifier(max_depth=10,max_features=13,max_leaf_nodes=4)\n",
    "svr=SVC()\n",
    "knn=KNeighborsClassifier()\n",
    "clf = RandomForestClassifier(n_estimators=71, max_depth=5)\n",
    "\n"
   ]
  },
  {
   "cell_type": "code",
   "execution_count": 118,
   "metadata": {},
   "outputs": [],
   "source": [
    "dt=DecisionTreeClassifier(max_depth=10,max_features=14,max_leaf_nodes=13)\n"
   ]
  },
  {
   "cell_type": "code",
   "execution_count": 119,
   "metadata": {},
   "outputs": [
    {
     "name": "stdout",
     "output_type": "stream",
     "text": [
      "DecisionTreeClassifier(max_depth=10, max_features=14, max_leaf_nodes=13) test score 0.9754728132387707 train_score 1.0\n",
      "DecisionTreeClassifier(max_depth=10, max_features=14, max_leaf_nodes=13) Precision: 1.0\n",
      "DecisionTreeClassifier(max_depth=10, max_features=14, max_leaf_nodes=13) Recall: 0.9893617021276596\n",
      "DecisionTreeClassifier(max_depth=10, max_features=14, max_leaf_nodes=13) F1-score: 0.9946524064171123\n"
     ]
    }
   ],
   "source": [
    "for i in [dt]:\n",
    "    #,svr,knn,cl,flr\n",
    "    i.fit(x_train,y_train)\n",
    "    pred=i.predict(x_test)\n",
    "    test_score=r2_score(y_test,pred)\n",
    "    train_score=r2_score(y_train,i.predict(x_train))\n",
    "    precision = precision_score(y_test, pred)\n",
    "    recall = recall_score(y_test, pred)\n",
    "    f1 = f1_score(y_test, pred)\n",
    "\n",
    "# Print the evaluation metrics\n",
    "    print(i,\"test score\",test_score,\"train_score\",train_score)\n",
    "\n",
    "    print(i,'Precision:', precision)\n",
    "    print(i,'Recall:', recall)\n",
    "    print(i,'F1-score:', f1)"
   ]
  },
  {
   "cell_type": "code",
   "execution_count": null,
   "metadata": {},
   "outputs": [],
   "source": [
    "import joblib\n",
    "joblib.dump(dt,\"uti_model.joblib\")"
   ]
  }
 ],
 "metadata": {
  "kernelspec": {
   "display_name": "Python 3.8.8 ('base')",
   "language": "python",
   "name": "python3"
  },
  "language_info": {
   "codemirror_mode": {
    "name": "ipython",
    "version": 3
   },
   "file_extension": ".py",
   "mimetype": "text/x-python",
   "name": "python",
   "nbconvert_exporter": "python",
   "pygments_lexer": "ipython3",
   "version": "3.10.9"
  },
  "orig_nbformat": 4,
  "vscode": {
   "interpreter": {
    "hash": "1e23beb0de8db459d45af43dbef23ad987056b7d264235de57943cbbf14c4dfb"
   }
  }
 },
 "nbformat": 4,
 "nbformat_minor": 2
}
