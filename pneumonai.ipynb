{
 "cells": [
  {
   "cell_type": "code",
   "execution_count": 1,
   "metadata": {},
   "outputs": [],
   "source": [
    "import numpy as np\n",
    "import pandas as pd\n"
   ]
  },
  {
   "cell_type": "code",
   "execution_count": 4,
   "metadata": {},
   "outputs": [],
   "source": [
    "pneumonia_data=pd.read_excel(\"cbcdatasets1.xls\")"
   ]
  },
  {
   "cell_type": "code",
   "execution_count": 5,
   "metadata": {},
   "outputs": [
    {
     "data": {
      "text/html": [
       "<div>\n",
       "<style scoped>\n",
       "    .dataframe tbody tr th:only-of-type {\n",
       "        vertical-align: middle;\n",
       "    }\n",
       "\n",
       "    .dataframe tbody tr th {\n",
       "        vertical-align: top;\n",
       "    }\n",
       "\n",
       "    .dataframe thead th {\n",
       "        text-align: right;\n",
       "    }\n",
       "</style>\n",
       "<table border=\"1\" class=\"dataframe\">\n",
       "  <thead>\n",
       "    <tr style=\"text-align: right;\">\n",
       "      <th></th>\n",
       "      <th>s no</th>\n",
       "      <th>Gender</th>\n",
       "      <th>age</th>\n",
       "      <th>wbc</th>\n",
       "      <th>hgb</th>\n",
       "      <th>rbc</th>\n",
       "      <th>plt</th>\n",
       "      <th>lym</th>\n",
       "      <th>mid</th>\n",
       "      <th>grand</th>\n",
       "      <th>hct</th>\n",
       "      <th>mcv</th>\n",
       "      <th>mch</th>\n",
       "      <th>mchc</th>\n",
       "    </tr>\n",
       "  </thead>\n",
       "  <tbody>\n",
       "    <tr>\n",
       "      <th>0</th>\n",
       "      <td>NaN</td>\n",
       "      <td>m</td>\n",
       "      <td>51</td>\n",
       "      <td>6.5</td>\n",
       "      <td>14.0</td>\n",
       "      <td>5.37</td>\n",
       "      <td>144.0</td>\n",
       "      <td>19.3</td>\n",
       "      <td>4.7</td>\n",
       "      <td>76.0</td>\n",
       "      <td>46.9</td>\n",
       "      <td>87.2</td>\n",
       "      <td>26</td>\n",
       "      <td>29.8</td>\n",
       "    </tr>\n",
       "    <tr>\n",
       "      <th>1</th>\n",
       "      <td>NaN</td>\n",
       "      <td>f</td>\n",
       "      <td>17</td>\n",
       "      <td>7.3</td>\n",
       "      <td>11.1</td>\n",
       "      <td>4.92</td>\n",
       "      <td>222.0</td>\n",
       "      <td>31.1</td>\n",
       "      <td>6.5</td>\n",
       "      <td>62.4</td>\n",
       "      <td>38.0</td>\n",
       "      <td>77.2</td>\n",
       "      <td>22.7</td>\n",
       "      <td>29.3</td>\n",
       "    </tr>\n",
       "  </tbody>\n",
       "</table>\n",
       "</div>"
      ],
      "text/plain": [
       "   s no  Gender age   wbc   hgb   rbc    plt   lym  mid  grand   hct   mcv  \\\n",
       "0    NaN      m   51  6.5  14.0  5.37  144.0  19.3  4.7   76.0  46.9  87.2   \n",
       "1    NaN      f   17  7.3  11.1  4.92  222.0  31.1  6.5   62.4  38.0  77.2   \n",
       "\n",
       "    mch  mchc  \n",
       "0    26  29.8  \n",
       "1  22.7  29.3  "
      ]
     },
     "execution_count": 5,
     "metadata": {},
     "output_type": "execute_result"
    }
   ],
   "source": [
    "c.head(2)"
   ]
  },
  {
   "cell_type": "code",
   "execution_count": 11,
   "metadata": {},
   "outputs": [
    {
     "data": {
      "text/plain": [
       "Index(['Gender', 'age ', 'wbc', 'hgb', 'rbc', 'plt', 'lym', 'mid', 'grand',\n",
       "       'hct', 'mcv', 'mch', 'mchc'],\n",
       "      dtype='object')"
      ]
     },
     "execution_count": 11,
     "metadata": {},
     "output_type": "execute_result"
    }
   ],
   "source": [
    "pneumonia_data=pneumonia_data.drop(columns='s no ')\n",
    "pneumonia_data.columns\n"
   ]
  },
  {
   "cell_type": "code",
   "execution_count": 13,
   "metadata": {},
   "outputs": [
    {
     "data": {
      "text/html": [
       "<div>\n",
       "<style scoped>\n",
       "    .dataframe tbody tr th:only-of-type {\n",
       "        vertical-align: middle;\n",
       "    }\n",
       "\n",
       "    .dataframe tbody tr th {\n",
       "        vertical-align: top;\n",
       "    }\n",
       "\n",
       "    .dataframe thead th {\n",
       "        text-align: right;\n",
       "    }\n",
       "</style>\n",
       "<table border=\"1\" class=\"dataframe\">\n",
       "  <thead>\n",
       "    <tr style=\"text-align: right;\">\n",
       "      <th></th>\n",
       "      <th>Gender</th>\n",
       "      <th>age</th>\n",
       "      <th>wbc</th>\n",
       "      <th>hgb</th>\n",
       "      <th>rbc</th>\n",
       "      <th>plt</th>\n",
       "      <th>lym</th>\n",
       "      <th>mid</th>\n",
       "      <th>grand</th>\n",
       "      <th>hct</th>\n",
       "      <th>mcv</th>\n",
       "      <th>mch</th>\n",
       "      <th>mchc</th>\n",
       "    </tr>\n",
       "  </thead>\n",
       "  <tbody>\n",
       "    <tr>\n",
       "      <th>0</th>\n",
       "      <td>m</td>\n",
       "      <td>51</td>\n",
       "      <td>6.5</td>\n",
       "      <td>14.0</td>\n",
       "      <td>5.37</td>\n",
       "      <td>144.0</td>\n",
       "      <td>19.3</td>\n",
       "      <td>4.7</td>\n",
       "      <td>76.0</td>\n",
       "      <td>46.9</td>\n",
       "      <td>87.2</td>\n",
       "      <td>26</td>\n",
       "      <td>29.8</td>\n",
       "    </tr>\n",
       "    <tr>\n",
       "      <th>1</th>\n",
       "      <td>f</td>\n",
       "      <td>17</td>\n",
       "      <td>7.3</td>\n",
       "      <td>11.1</td>\n",
       "      <td>4.92</td>\n",
       "      <td>222.0</td>\n",
       "      <td>31.1</td>\n",
       "      <td>6.5</td>\n",
       "      <td>62.4</td>\n",
       "      <td>38.0</td>\n",
       "      <td>77.2</td>\n",
       "      <td>22.7</td>\n",
       "      <td>29.3</td>\n",
       "    </tr>\n",
       "    <tr>\n",
       "      <th>2</th>\n",
       "      <td>f</td>\n",
       "      <td>22</td>\n",
       "      <td>11.2</td>\n",
       "      <td>11.2</td>\n",
       "      <td>4.37</td>\n",
       "      <td>151.0</td>\n",
       "      <td>117.5</td>\n",
       "      <td>5</td>\n",
       "      <td>77.9</td>\n",
       "      <td>37.3</td>\n",
       "      <td>85.4</td>\n",
       "      <td>25.6</td>\n",
       "      <td>29.9</td>\n",
       "    </tr>\n",
       "  </tbody>\n",
       "</table>\n",
       "</div>"
      ],
      "text/plain": [
       "  Gender age    wbc   hgb   rbc    plt    lym  mid  grand   hct   mcv   mch  \\\n",
       "0      m   51   6.5  14.0  5.37  144.0   19.3  4.7   76.0  46.9  87.2    26   \n",
       "1      f   17   7.3  11.1  4.92  222.0   31.1  6.5   62.4  38.0  77.2  22.7   \n",
       "2      f   22  11.2  11.2  4.37  151.0  117.5    5   77.9  37.3  85.4  25.6   \n",
       "\n",
       "   mchc  \n",
       "0  29.8  \n",
       "1  29.3  \n",
       "2  29.9  "
      ]
     },
     "execution_count": 13,
     "metadata": {},
     "output_type": "execute_result"
    }
   ],
   "source": [
    "pneumonia_data.head(3)"
   ]
  },
  {
   "cell_type": "code",
   "execution_count": 15,
   "metadata": {},
   "outputs": [],
   "source": [
    "#conditions=[((uti_data[\"wbc\"] >= 11)) & (uti_data[\"grand\" ]>= 65)]\n",
    "\n",
    "#values = [\"1\"]\n",
    "#uti_data[\"uti_result\"]=np.select(conditions,values)\n",
    "\n",
    "conditions=[\n",
    "\n",
    "(pneumonia_data[\"wbc\"]>=11) & (pneumonia_data[\"grand\"]>70)\n",
    "]\n",
    "\n",
    "values=[\"1\"]\n",
    "pneumonia_data[\"pneumonia_result\"]=np.select(conditions,values)\n",
    "\n"
   ]
  },
  {
   "cell_type": "code",
   "execution_count": 30,
   "metadata": {},
   "outputs": [
    {
     "data": {
      "text/html": [
       "<div>\n",
       "<style scoped>\n",
       "    .dataframe tbody tr th:only-of-type {\n",
       "        vertical-align: middle;\n",
       "    }\n",
       "\n",
       "    .dataframe tbody tr th {\n",
       "        vertical-align: top;\n",
       "    }\n",
       "\n",
       "    .dataframe thead th {\n",
       "        text-align: right;\n",
       "    }\n",
       "</style>\n",
       "<table border=\"1\" class=\"dataframe\">\n",
       "  <thead>\n",
       "    <tr style=\"text-align: right;\">\n",
       "      <th></th>\n",
       "      <th>wbc</th>\n",
       "      <th>hgb</th>\n",
       "      <th>rbc</th>\n",
       "      <th>plt</th>\n",
       "      <th>lym</th>\n",
       "      <th>grand</th>\n",
       "      <th>hct</th>\n",
       "      <th>mcv</th>\n",
       "      <th>mchc</th>\n",
       "    </tr>\n",
       "    <tr>\n",
       "      <th>pneumonia_result</th>\n",
       "      <th></th>\n",
       "      <th></th>\n",
       "      <th></th>\n",
       "      <th></th>\n",
       "      <th></th>\n",
       "      <th></th>\n",
       "      <th></th>\n",
       "      <th></th>\n",
       "      <th></th>\n",
       "    </tr>\n",
       "  </thead>\n",
       "  <tbody>\n",
       "    <tr>\n",
       "      <th>0</th>\n",
       "      <td>1811.4</td>\n",
       "      <td>3170.89</td>\n",
       "      <td>1222.059</td>\n",
       "      <td>53231.4</td>\n",
       "      <td>6895.67</td>\n",
       "      <td>15077.0</td>\n",
       "      <td>9389.7</td>\n",
       "      <td>18414.2</td>\n",
       "      <td>7849.6</td>\n",
       "    </tr>\n",
       "    <tr>\n",
       "      <th>1</th>\n",
       "      <td>419.2</td>\n",
       "      <td>386.64</td>\n",
       "      <td>154.190</td>\n",
       "      <td>7128.0</td>\n",
       "      <td>580.90</td>\n",
       "      <td>2260.0</td>\n",
       "      <td>1197.7</td>\n",
       "      <td>2194.7</td>\n",
       "      <td>1248.2</td>\n",
       "    </tr>\n",
       "  </tbody>\n",
       "</table>\n",
       "</div>"
      ],
      "text/plain": [
       "                     wbc      hgb       rbc      plt      lym    grand  \\\n",
       "pneumonia_result                                                         \n",
       "0                 1811.4  3170.89  1222.059  53231.4  6895.67  15077.0   \n",
       "1                  419.2   386.64   154.190   7128.0   580.90   2260.0   \n",
       "\n",
       "                     hct      mcv    mchc  \n",
       "pneumonia_result                           \n",
       "0                 9389.7  18414.2  7849.6  \n",
       "1                 1197.7   2194.7  1248.2  "
      ]
     },
     "execution_count": 30,
     "metadata": {},
     "output_type": "execute_result"
    }
   ],
   "source": [
    "pneumonia_data.groupby(\"pneumonia_result\").sum()"
   ]
  },
  {
   "cell_type": "code",
   "execution_count": 31,
   "metadata": {},
   "outputs": [],
   "source": [
    "pneumonia_data.to_csv(\"pneumonia_data.csv\")"
   ]
  },
  {
   "cell_type": "code",
   "execution_count": null,
   "metadata": {},
   "outputs": [],
   "source": [
    "pneumonia_data=pd.read_csv(\"pneumonia_data.csv\")"
   ]
  },
  {
   "cell_type": "code",
   "execution_count": null,
   "metadata": {},
   "outputs": [
    {
     "ename": "",
     "evalue": "",
     "output_type": "error",
     "traceback": [
      "\u001b[1;31mRunning cells with 'Python 3.8.13 ('streamlit')' requires ipykernel package.\n",
      "\u001b[1;31mRun the following command to install 'ipykernel' into the Python environment. \n",
      "\u001b[1;31mCommand: 'conda install -n streamlit ipykernel --update-deps --force-reinstall'"
     ]
    }
   ],
   "source": [
    "import streamlit as st "
   ]
  },
  {
   "cell_type": "code",
   "execution_count": null,
   "metadata": {},
   "outputs": [],
   "source": []
  }
 ],
 "metadata": {
  "kernelspec": {
   "display_name": "Python 3.8.13 ('streamlit')",
   "language": "python",
   "name": "python3"
  },
  "language_info": {
   "codemirror_mode": {
    "name": "ipython",
    "version": 3
   },
   "file_extension": ".py",
   "mimetype": "text/x-python",
   "name": "python",
   "nbconvert_exporter": "python",
   "pygments_lexer": "ipython3",
   "version": "3.8.13"
  },
  "orig_nbformat": 4,
  "vscode": {
   "interpreter": {
    "hash": "1cf7ad5dacce1846e99a6b23e89bf4c1e2b1cd7481b543f553fc08427a5f0f98"
   }
  }
 },
 "nbformat": 4,
 "nbformat_minor": 2
}
