{
 "cells": [
  {
   "cell_type": "code",
   "execution_count": null,
   "metadata": {},
   "outputs": [],
   "source": [
    "import numpy as np \n",
    "import pandas as pd\n",
    "dataset=pd.read_csv()\n",
    "from sklearn.impute import SimpleImputer\n",
    "x=dataset.iloc[:,:-1]\n",
    "imputer =SimpleImputer(missing_values=np.nan,stsrtegy=\"mean\",axis=0)\n",
    "imputer=imputer.fix(x[:,1:3])\n",
    "x[:,1:3]=imputer.transform(x[:,1:3])\n"
   ]
  },
  {
   "cell_type": "code",
   "execution_count": null,
   "metadata": {},
   "outputs": [],
   "source": [
    "#concept of dummy variable and handling conflict between them\n",
    "from sklearn.preprocessing import LabelEncoder,OneHotEncoder\n",
    "label_encoder_x=LabelEncoder()\n",
    "x[:,0]=label_encoder_x.fit_transform(x[:,0])\n",
    "onehotencoder=OneHotEncoder(categorical_features=[0])#0 column meh jo features mojoodh heh uny change kr doh \n",
    "\n",
    "x=onehotencoder.fit_transform(x).toarray()"
   ]
  },
  {
   "cell_type": "code",
   "execution_count": 5,
   "metadata": {},
   "outputs": [],
   "source": [
    "import random\n",
    "i=1\n",
    "for i in range (4):\n",
    "   random.randint(2,20)"
   ]
  },
  {
   "cell_type": "code",
   "execution_count": null,
   "metadata": {},
   "outputs": [],
   "source": []
  },
  {
   "cell_type": "code",
   "execution_count": null,
   "metadata": {},
   "outputs": [],
   "source": []
  }
 ],
 "metadata": {
  "kernelspec": {
   "display_name": "Python 3.8.8 ('base')",
   "language": "python",
   "name": "python3"
  },
  "language_info": {
   "codemirror_mode": {
    "name": "ipython",
    "version": 3
   },
   "file_extension": ".py",
   "mimetype": "text/x-python",
   "name": "python",
   "nbconvert_exporter": "python",
   "pygments_lexer": "ipython3",
   "version": "3.10.9"
  },
  "orig_nbformat": 4,
  "vscode": {
   "interpreter": {
    "hash": "1e23beb0de8db459d45af43dbef23ad987056b7d264235de57943cbbf14c4dfb"
   }
  }
 },
 "nbformat": 4,
 "nbformat_minor": 2
}
