{
 "cells": [
  {
   "cell_type": "code",
   "execution_count": 3,
   "metadata": {},
   "outputs": [],
   "source": [
    "import numpy as np\n",
    "import pandas as pd\n",
    "malaria_data_set=pd.read_excel(\"malaria_dataset.xlsx\")"
   ]
  },
  {
   "cell_type": "code",
   "execution_count": 4,
   "metadata": {},
   "outputs": [
    {
     "data": {
      "text/html": [
       "<div>\n",
       "<style scoped>\n",
       "    .dataframe tbody tr th:only-of-type {\n",
       "        vertical-align: middle;\n",
       "    }\n",
       "\n",
       "    .dataframe tbody tr th {\n",
       "        vertical-align: top;\n",
       "    }\n",
       "\n",
       "    .dataframe thead th {\n",
       "        text-align: right;\n",
       "    }\n",
       "</style>\n",
       "<table border=\"1\" class=\"dataframe\">\n",
       "  <thead>\n",
       "    <tr style=\"text-align: right;\">\n",
       "      <th></th>\n",
       "      <th>Gender</th>\n",
       "      <th>age</th>\n",
       "      <th>wbc</th>\n",
       "      <th>hgb</th>\n",
       "      <th>rbc</th>\n",
       "      <th>plt</th>\n",
       "      <th>lym</th>\n",
       "      <th>mid</th>\n",
       "      <th>grand</th>\n",
       "      <th>hct</th>\n",
       "      <th>mcv</th>\n",
       "      <th>mch</th>\n",
       "      <th>mchc</th>\n",
       "      <th>malaria_result</th>\n",
       "    </tr>\n",
       "  </thead>\n",
       "  <tbody>\n",
       "    <tr>\n",
       "      <th>0</th>\n",
       "      <td>1.0</td>\n",
       "      <td>10</td>\n",
       "      <td>5.684170</td>\n",
       "      <td>8.239717</td>\n",
       "      <td>2.402521</td>\n",
       "      <td>61.0</td>\n",
       "      <td>20.295820</td>\n",
       "      <td>37.133470</td>\n",
       "      <td>42.570711</td>\n",
       "      <td>34.192624</td>\n",
       "      <td>83.725800</td>\n",
       "      <td>24.808936</td>\n",
       "      <td>30.381884</td>\n",
       "      <td>1</td>\n",
       "    </tr>\n",
       "    <tr>\n",
       "      <th>1</th>\n",
       "      <td>0.0</td>\n",
       "      <td>64</td>\n",
       "      <td>9.908648</td>\n",
       "      <td>10.722172</td>\n",
       "      <td>3.212546</td>\n",
       "      <td>82.0</td>\n",
       "      <td>31.076104</td>\n",
       "      <td>12.702896</td>\n",
       "      <td>56.221000</td>\n",
       "      <td>25.090894</td>\n",
       "      <td>93.633331</td>\n",
       "      <td>27.620859</td>\n",
       "      <td>29.925954</td>\n",
       "      <td>1</td>\n",
       "    </tr>\n",
       "    <tr>\n",
       "      <th>2</th>\n",
       "      <td>1.0</td>\n",
       "      <td>39</td>\n",
       "      <td>8.193152</td>\n",
       "      <td>10.473806</td>\n",
       "      <td>4.144448</td>\n",
       "      <td>103.0</td>\n",
       "      <td>23.198338</td>\n",
       "      <td>22.438870</td>\n",
       "      <td>54.362793</td>\n",
       "      <td>17.002259</td>\n",
       "      <td>81.452868</td>\n",
       "      <td>24.264894</td>\n",
       "      <td>27.457515</td>\n",
       "      <td>1</td>\n",
       "    </tr>\n",
       "  </tbody>\n",
       "</table>\n",
       "</div>"
      ],
      "text/plain": [
       "   Gender  age        wbc        hgb       rbc    plt        lym        mid  \\\n",
       "0     1.0    10  5.684170   8.239717  2.402521   61.0  20.295820  37.133470   \n",
       "1     0.0    64  9.908648  10.722172  3.212546   82.0  31.076104  12.702896   \n",
       "2     1.0    39  8.193152  10.473806  4.144448  103.0  23.198338  22.438870   \n",
       "\n",
       "       grand        hct        mcv        mch       mchc  malaria_result  \n",
       "0  42.570711  34.192624  83.725800  24.808936  30.381884               1  \n",
       "1  56.221000  25.090894  93.633331  27.620859  29.925954               1  \n",
       "2  54.362793  17.002259  81.452868  24.264894  27.457515               1  "
      ]
     },
     "execution_count": 4,
     "metadata": {},
     "output_type": "execute_result"
    }
   ],
   "source": [
    "malaria_data_set.head(3)"
   ]
  },
  {
   "cell_type": "code",
   "execution_count": 5,
   "metadata": {},
   "outputs": [
    {
     "data": {
      "text/plain": [
       "Index(['Gender', 'age ', 'wbc', 'hgb', 'rbc', 'plt', 'lym', 'mid', 'grand',\n",
       "       'hct', 'mcv', 'mch', 'mchc', 'malaria_result'],\n",
       "      dtype='object')"
      ]
     },
     "execution_count": 5,
     "metadata": {},
     "output_type": "execute_result"
    }
   ],
   "source": [
    "malaria_data_set.columns"
   ]
  },
  {
   "cell_type": "code",
   "execution_count": 6,
   "metadata": {},
   "outputs": [
    {
     "data": {
      "text/plain": [
       "Gender            1\n",
       "age               0\n",
       "wbc               0\n",
       "hgb               0\n",
       "rbc               0\n",
       "plt               0\n",
       "lym               0\n",
       "mid               0\n",
       "grand             0\n",
       "hct               0\n",
       "mcv               0\n",
       "mch               0\n",
       "mchc              0\n",
       "malaria_result    0\n",
       "dtype: int64"
      ]
     },
     "execution_count": 6,
     "metadata": {},
     "output_type": "execute_result"
    }
   ],
   "source": [
    "malaria_data_set.isnull().sum()"
   ]
  },
  {
   "cell_type": "code",
   "execution_count": 7,
   "metadata": {},
   "outputs": [],
   "source": [
    "malaria_data_set=malaria_data_set.dropna()"
   ]
  },
  {
   "cell_type": "code",
   "execution_count": 9,
   "metadata": {},
   "outputs": [],
   "source": [
    "malaria_data_set1=malaria_data_set"
   ]
  },
  {
   "cell_type": "code",
   "execution_count": 10,
   "metadata": {},
   "outputs": [],
   "source": [
    "import sklearn\n",
    "from sklearn.linear_model import LogisticRegression\n",
    "from sklearn.tree import DecisionTreeClassifier\n",
    "from sklearn.tree import DecisionTreeClassifier\n",
    "from sklearn.svm import SVC\n",
    "from sklearn.neighbors import KNeighborsClassifier\n",
    "from sklearn.model_selection import train_test_split\n",
    "from sklearn.metrics import r2_score,mean_absolute_error,mean_squared_error"
   ]
  },
  {
   "cell_type": "code",
   "execution_count": 11,
   "metadata": {},
   "outputs": [],
   "source": [
    "#shortend names for classifier\n",
    "lr=LogisticRegression()\n",
    "dt=DecisionTreeClassifier()\n",
    "svr=SVC()\n",
    "knn=KNeighborsClassifier()"
   ]
  },
  {
   "cell_type": "code",
   "execution_count": 13,
   "metadata": {},
   "outputs": [
    {
     "data": {
      "text/html": [
       "<div>\n",
       "<style scoped>\n",
       "    .dataframe tbody tr th:only-of-type {\n",
       "        vertical-align: middle;\n",
       "    }\n",
       "\n",
       "    .dataframe tbody tr th {\n",
       "        vertical-align: top;\n",
       "    }\n",
       "\n",
       "    .dataframe thead th {\n",
       "        text-align: right;\n",
       "    }\n",
       "</style>\n",
       "<table border=\"1\" class=\"dataframe\">\n",
       "  <thead>\n",
       "    <tr style=\"text-align: right;\">\n",
       "      <th></th>\n",
       "      <th>Gender</th>\n",
       "      <th>age</th>\n",
       "      <th>wbc</th>\n",
       "      <th>hgb</th>\n",
       "      <th>rbc</th>\n",
       "      <th>plt</th>\n",
       "      <th>lym</th>\n",
       "      <th>mid</th>\n",
       "      <th>grand</th>\n",
       "      <th>hct</th>\n",
       "      <th>mcv</th>\n",
       "      <th>mch</th>\n",
       "      <th>mchc</th>\n",
       "    </tr>\n",
       "  </thead>\n",
       "  <tbody>\n",
       "    <tr>\n",
       "      <th>0</th>\n",
       "      <td>1.0</td>\n",
       "      <td>10</td>\n",
       "      <td>5.684170</td>\n",
       "      <td>8.239717</td>\n",
       "      <td>2.402521</td>\n",
       "      <td>61.0</td>\n",
       "      <td>20.295820</td>\n",
       "      <td>37.133470</td>\n",
       "      <td>42.570711</td>\n",
       "      <td>34.192624</td>\n",
       "      <td>83.725800</td>\n",
       "      <td>24.808936</td>\n",
       "      <td>30.381884</td>\n",
       "    </tr>\n",
       "    <tr>\n",
       "      <th>1</th>\n",
       "      <td>0.0</td>\n",
       "      <td>64</td>\n",
       "      <td>9.908648</td>\n",
       "      <td>10.722172</td>\n",
       "      <td>3.212546</td>\n",
       "      <td>82.0</td>\n",
       "      <td>31.076104</td>\n",
       "      <td>12.702896</td>\n",
       "      <td>56.221000</td>\n",
       "      <td>25.090894</td>\n",
       "      <td>93.633331</td>\n",
       "      <td>27.620859</td>\n",
       "      <td>29.925954</td>\n",
       "    </tr>\n",
       "    <tr>\n",
       "      <th>2</th>\n",
       "      <td>1.0</td>\n",
       "      <td>39</td>\n",
       "      <td>8.193152</td>\n",
       "      <td>10.473806</td>\n",
       "      <td>4.144448</td>\n",
       "      <td>103.0</td>\n",
       "      <td>23.198338</td>\n",
       "      <td>22.438870</td>\n",
       "      <td>54.362793</td>\n",
       "      <td>17.002259</td>\n",
       "      <td>81.452868</td>\n",
       "      <td>24.264894</td>\n",
       "      <td>27.457515</td>\n",
       "    </tr>\n",
       "  </tbody>\n",
       "</table>\n",
       "</div>"
      ],
      "text/plain": [
       "   Gender  age        wbc        hgb       rbc    plt        lym        mid  \\\n",
       "0     1.0    10  5.684170   8.239717  2.402521   61.0  20.295820  37.133470   \n",
       "1     0.0    64  9.908648  10.722172  3.212546   82.0  31.076104  12.702896   \n",
       "2     1.0    39  8.193152  10.473806  4.144448  103.0  23.198338  22.438870   \n",
       "\n",
       "       grand        hct        mcv        mch       mchc  \n",
       "0  42.570711  34.192624  83.725800  24.808936  30.381884  \n",
       "1  56.221000  25.090894  93.633331  27.620859  29.925954  \n",
       "2  54.362793  17.002259  81.452868  24.264894  27.457515  "
      ]
     },
     "execution_count": 13,
     "metadata": {},
     "output_type": "execute_result"
    }
   ],
   "source": [
    "\n",
    "malaria_independent_variables=malaria_data_set1.iloc[:,0:13]\n",
    "malaria_independent_variables.head(3)\n",
    "\n"
   ]
  },
  {
   "cell_type": "code",
   "execution_count": 14,
   "metadata": {},
   "outputs": [
    {
     "data": {
      "text/html": [
       "<div>\n",
       "<style scoped>\n",
       "    .dataframe tbody tr th:only-of-type {\n",
       "        vertical-align: middle;\n",
       "    }\n",
       "\n",
       "    .dataframe tbody tr th {\n",
       "        vertical-align: top;\n",
       "    }\n",
       "\n",
       "    .dataframe thead th {\n",
       "        text-align: right;\n",
       "    }\n",
       "</style>\n",
       "<table border=\"1\" class=\"dataframe\">\n",
       "  <thead>\n",
       "    <tr style=\"text-align: right;\">\n",
       "      <th></th>\n",
       "      <th>malaria_result</th>\n",
       "    </tr>\n",
       "  </thead>\n",
       "  <tbody>\n",
       "    <tr>\n",
       "      <th>0</th>\n",
       "      <td>1</td>\n",
       "    </tr>\n",
       "    <tr>\n",
       "      <th>1</th>\n",
       "      <td>1</td>\n",
       "    </tr>\n",
       "    <tr>\n",
       "      <th>2</th>\n",
       "      <td>1</td>\n",
       "    </tr>\n",
       "  </tbody>\n",
       "</table>\n",
       "</div>"
      ],
      "text/plain": [
       "   malaria_result\n",
       "0               1\n",
       "1               1\n",
       "2               1"
      ]
     },
     "execution_count": 14,
     "metadata": {},
     "output_type": "execute_result"
    }
   ],
   "source": [
    "malaria_dependend_variables=malaria_data_set1.iloc[:,13:]\n",
    "malaria_dependend_variables.head(3)"
   ]
  },
  {
   "cell_type": "code",
   "execution_count": null,
   "metadata": {},
   "outputs": [],
   "source": []
  }
 ],
 "metadata": {
  "kernelspec": {
   "display_name": "streamlit",
   "language": "python",
   "name": "python3"
  },
  "language_info": {
   "codemirror_mode": {
    "name": "ipython",
    "version": 3
   },
   "file_extension": ".py",
   "mimetype": "text/x-python",
   "name": "python",
   "nbconvert_exporter": "python",
   "pygments_lexer": "ipython3",
   "version": "3.10.9"
  },
  "orig_nbformat": 4
 },
 "nbformat": 4,
 "nbformat_minor": 2
}
