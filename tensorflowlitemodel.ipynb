{
 "cells": [
  {
   "cell_type": "code",
   "execution_count": 303,
   "metadata": {},
   "outputs": [],
   "source": [
    "import numpy as np\n",
    "import pandas as pd "
   ]
  },
  {
   "cell_type": "code",
   "execution_count": 304,
   "metadata": {},
   "outputs": [],
   "source": [
    "data=pd.read_csv('blood.csv')"
   ]
  },
  {
   "cell_type": "code",
   "execution_count": 319,
   "metadata": {},
   "outputs": [],
   "source": [
    "data.head(3)\n",
    "data.reset_index(drop=True, inplace=True)"
   ]
  },
  {
   "cell_type": "code",
   "execution_count": null,
   "metadata": {},
   "outputs": [],
   "source": [
    "\n",
    "data.columns\n",
    "data =data.astype(np.float32)"
   ]
  },
  {
   "cell_type": "code",
   "execution_count": null,
   "metadata": {},
   "outputs": [],
   "source": [
    "data.dtypes"
   ]
  },
  {
   "cell_type": "code",
   "execution_count": null,
   "metadata": {},
   "outputs": [],
   "source": []
  },
  {
   "cell_type": "code",
   "execution_count": null,
   "metadata": {},
   "outputs": [],
   "source": [
    "from numpy.random import shuffle\n",
    "\n"
   ]
  },
  {
   "cell_type": "code",
   "execution_count": null,
   "metadata": {},
   "outputs": [],
   "source": [
    "dataset = data"
   ]
  },
  {
   "cell_type": "code",
   "execution_count": null,
   "metadata": {},
   "outputs": [],
   "source": [
    "dataset = dataset.dropna()"
   ]
  },
  {
   "cell_type": "code",
   "execution_count": null,
   "metadata": {},
   "outputs": [],
   "source": [
    "print(dataset.isna().sum())"
   ]
  },
  {
   "cell_type": "code",
   "execution_count": null,
   "metadata": {},
   "outputs": [],
   "source": [
    "dataset.head(8)"
   ]
  },
  {
   "cell_type": "code",
   "execution_count": 305,
   "metadata": {},
   "outputs": [],
   "source": [
    "shuffled_dataset = dataset.sample(frac=1).reset_index(drop=True)\n"
   ]
  },
  {
   "cell_type": "code",
   "execution_count": 306,
   "metadata": {},
   "outputs": [
    {
     "data": {
      "text/html": [
       "<div>\n",
       "<style scoped>\n",
       "    .dataframe tbody tr th:only-of-type {\n",
       "        vertical-align: middle;\n",
       "    }\n",
       "\n",
       "    .dataframe tbody tr th {\n",
       "        vertical-align: top;\n",
       "    }\n",
       "\n",
       "    .dataframe thead th {\n",
       "        text-align: right;\n",
       "    }\n",
       "</style>\n",
       "<table border=\"1\" class=\"dataframe\">\n",
       "  <thead>\n",
       "    <tr style=\"text-align: right;\">\n",
       "      <th></th>\n",
       "      <th>Gender</th>\n",
       "      <th>age</th>\n",
       "      <th>wbc</th>\n",
       "      <th>hgb</th>\n",
       "      <th>rbc</th>\n",
       "      <th>plt</th>\n",
       "      <th>lym</th>\n",
       "      <th>mid</th>\n",
       "      <th>grand</th>\n",
       "      <th>hct</th>\n",
       "      <th>mcv</th>\n",
       "      <th>mch</th>\n",
       "      <th>mchc</th>\n",
       "      <th>typhoid_result</th>\n",
       "    </tr>\n",
       "  </thead>\n",
       "  <tbody>\n",
       "    <tr>\n",
       "      <th>0</th>\n",
       "      <td>0.0</td>\n",
       "      <td>49.0</td>\n",
       "      <td>5.8</td>\n",
       "      <td>15.2</td>\n",
       "      <td>6.0</td>\n",
       "      <td>140.0</td>\n",
       "      <td>19.1</td>\n",
       "      <td>39.8</td>\n",
       "      <td>47.3</td>\n",
       "      <td>33.6</td>\n",
       "      <td>72.4</td>\n",
       "      <td>28.1</td>\n",
       "      <td>33.0</td>\n",
       "      <td>1.0</td>\n",
       "    </tr>\n",
       "    <tr>\n",
       "      <th>1</th>\n",
       "      <td>1.0</td>\n",
       "      <td>59.0</td>\n",
       "      <td>13.4</td>\n",
       "      <td>10.3</td>\n",
       "      <td>3.8</td>\n",
       "      <td>109.0</td>\n",
       "      <td>31.6</td>\n",
       "      <td>16.6</td>\n",
       "      <td>53.8</td>\n",
       "      <td>46.9</td>\n",
       "      <td>28.9</td>\n",
       "      <td>29.9</td>\n",
       "      <td>30.2</td>\n",
       "      <td>1.0</td>\n",
       "    </tr>\n",
       "    <tr>\n",
       "      <th>2</th>\n",
       "      <td>1.0</td>\n",
       "      <td>27.0</td>\n",
       "      <td>8.6</td>\n",
       "      <td>16.5</td>\n",
       "      <td>4.8</td>\n",
       "      <td>273.0</td>\n",
       "      <td>39.7</td>\n",
       "      <td>9.3</td>\n",
       "      <td>54.6</td>\n",
       "      <td>59.1</td>\n",
       "      <td>49.4</td>\n",
       "      <td>37.1</td>\n",
       "      <td>30.3</td>\n",
       "      <td>0.0</td>\n",
       "    </tr>\n",
       "    <tr>\n",
       "      <th>3</th>\n",
       "      <td>0.0</td>\n",
       "      <td>82.0</td>\n",
       "      <td>9.7</td>\n",
       "      <td>10.2</td>\n",
       "      <td>4.9</td>\n",
       "      <td>332.0</td>\n",
       "      <td>14.5</td>\n",
       "      <td>22.4</td>\n",
       "      <td>46.1</td>\n",
       "      <td>39.3</td>\n",
       "      <td>77.0</td>\n",
       "      <td>28.4</td>\n",
       "      <td>36.8</td>\n",
       "      <td>0.0</td>\n",
       "    </tr>\n",
       "    <tr>\n",
       "      <th>4</th>\n",
       "      <td>1.0</td>\n",
       "      <td>23.0</td>\n",
       "      <td>14.5</td>\n",
       "      <td>13.5</td>\n",
       "      <td>5.0</td>\n",
       "      <td>303.0</td>\n",
       "      <td>25.5</td>\n",
       "      <td>6.8</td>\n",
       "      <td>50.8</td>\n",
       "      <td>39.0</td>\n",
       "      <td>56.5</td>\n",
       "      <td>19.6</td>\n",
       "      <td>34.7</td>\n",
       "      <td>0.0</td>\n",
       "    </tr>\n",
       "  </tbody>\n",
       "</table>\n",
       "</div>"
      ],
      "text/plain": [
       "   Gender  age    wbc   hgb  rbc    plt   lym   mid  grand   hct   mcv   mch  \\\n",
       "0     0.0  49.0   5.8  15.2  6.0  140.0  19.1  39.8   47.3  33.6  72.4  28.1   \n",
       "1     1.0  59.0  13.4  10.3  3.8  109.0  31.6  16.6   53.8  46.9  28.9  29.9   \n",
       "2     1.0  27.0   8.6  16.5  4.8  273.0  39.7   9.3   54.6  59.1  49.4  37.1   \n",
       "3     0.0  82.0   9.7  10.2  4.9  332.0  14.5  22.4   46.1  39.3  77.0  28.4   \n",
       "4     1.0  23.0  14.5  13.5  5.0  303.0  25.5   6.8   50.8  39.0  56.5  19.6   \n",
       "\n",
       "   mchc  typhoid_result  \n",
       "0  33.0             1.0  \n",
       "1  30.2             1.0  \n",
       "2  30.3             0.0  \n",
       "3  36.8             0.0  \n",
       "4  34.7             0.0  "
      ]
     },
     "execution_count": 306,
     "metadata": {},
     "output_type": "execute_result"
    }
   ],
   "source": [
    "shuffled_dataset.head(5)"
   ]
  },
  {
   "cell_type": "code",
   "execution_count": 307,
   "metadata": {},
   "outputs": [],
   "source": [
    "from sklearn.model_selection import train_test_split"
   ]
  },
  {
   "cell_type": "code",
   "execution_count": 308,
   "metadata": {},
   "outputs": [],
   "source": [
    "x=shuffled_dataset.iloc[:,:13]"
   ]
  },
  {
   "cell_type": "code",
   "execution_count": 309,
   "metadata": {},
   "outputs": [
    {
     "data": {
      "text/html": [
       "<div>\n",
       "<style scoped>\n",
       "    .dataframe tbody tr th:only-of-type {\n",
       "        vertical-align: middle;\n",
       "    }\n",
       "\n",
       "    .dataframe tbody tr th {\n",
       "        vertical-align: top;\n",
       "    }\n",
       "\n",
       "    .dataframe thead th {\n",
       "        text-align: right;\n",
       "    }\n",
       "</style>\n",
       "<table border=\"1\" class=\"dataframe\">\n",
       "  <thead>\n",
       "    <tr style=\"text-align: right;\">\n",
       "      <th></th>\n",
       "      <th>Gender</th>\n",
       "      <th>age</th>\n",
       "      <th>wbc</th>\n",
       "      <th>hgb</th>\n",
       "      <th>rbc</th>\n",
       "      <th>plt</th>\n",
       "      <th>lym</th>\n",
       "      <th>mid</th>\n",
       "      <th>grand</th>\n",
       "      <th>hct</th>\n",
       "      <th>mcv</th>\n",
       "      <th>mch</th>\n",
       "      <th>mchc</th>\n",
       "    </tr>\n",
       "  </thead>\n",
       "  <tbody>\n",
       "    <tr>\n",
       "      <th>0</th>\n",
       "      <td>0.0</td>\n",
       "      <td>49.0</td>\n",
       "      <td>5.8</td>\n",
       "      <td>15.2</td>\n",
       "      <td>6.0</td>\n",
       "      <td>140.0</td>\n",
       "      <td>19.1</td>\n",
       "      <td>39.8</td>\n",
       "      <td>47.3</td>\n",
       "      <td>33.6</td>\n",
       "      <td>72.4</td>\n",
       "      <td>28.1</td>\n",
       "      <td>33.0</td>\n",
       "    </tr>\n",
       "    <tr>\n",
       "      <th>1</th>\n",
       "      <td>1.0</td>\n",
       "      <td>59.0</td>\n",
       "      <td>13.4</td>\n",
       "      <td>10.3</td>\n",
       "      <td>3.8</td>\n",
       "      <td>109.0</td>\n",
       "      <td>31.6</td>\n",
       "      <td>16.6</td>\n",
       "      <td>53.8</td>\n",
       "      <td>46.9</td>\n",
       "      <td>28.9</td>\n",
       "      <td>29.9</td>\n",
       "      <td>30.2</td>\n",
       "    </tr>\n",
       "  </tbody>\n",
       "</table>\n",
       "</div>"
      ],
      "text/plain": [
       "   Gender  age    wbc   hgb  rbc    plt   lym   mid  grand   hct   mcv   mch  \\\n",
       "0     0.0  49.0   5.8  15.2  6.0  140.0  19.1  39.8   47.3  33.6  72.4  28.1   \n",
       "1     1.0  59.0  13.4  10.3  3.8  109.0  31.6  16.6   53.8  46.9  28.9  29.9   \n",
       "\n",
       "   mchc  \n",
       "0  33.0  \n",
       "1  30.2  "
      ]
     },
     "execution_count": 309,
     "metadata": {},
     "output_type": "execute_result"
    }
   ],
   "source": [
    "x.head(2)"
   ]
  },
  {
   "cell_type": "code",
   "execution_count": 310,
   "metadata": {},
   "outputs": [],
   "source": [
    "y=shuffled_dataset.iloc[:,-1:]"
   ]
  },
  {
   "cell_type": "code",
   "execution_count": 311,
   "metadata": {},
   "outputs": [
    {
     "data": {
      "text/html": [
       "<div>\n",
       "<style scoped>\n",
       "    .dataframe tbody tr th:only-of-type {\n",
       "        vertical-align: middle;\n",
       "    }\n",
       "\n",
       "    .dataframe tbody tr th {\n",
       "        vertical-align: top;\n",
       "    }\n",
       "\n",
       "    .dataframe thead th {\n",
       "        text-align: right;\n",
       "    }\n",
       "</style>\n",
       "<table border=\"1\" class=\"dataframe\">\n",
       "  <thead>\n",
       "    <tr style=\"text-align: right;\">\n",
       "      <th></th>\n",
       "      <th>typhoid_result</th>\n",
       "    </tr>\n",
       "  </thead>\n",
       "  <tbody>\n",
       "    <tr>\n",
       "      <th>0</th>\n",
       "      <td>1.0</td>\n",
       "    </tr>\n",
       "    <tr>\n",
       "      <th>1</th>\n",
       "      <td>1.0</td>\n",
       "    </tr>\n",
       "  </tbody>\n",
       "</table>\n",
       "</div>"
      ],
      "text/plain": [
       "   typhoid_result\n",
       "0             1.0\n",
       "1             1.0"
      ]
     },
     "execution_count": 311,
     "metadata": {},
     "output_type": "execute_result"
    }
   ],
   "source": [
    "y.head(2)"
   ]
  },
  {
   "cell_type": "code",
   "execution_count": 312,
   "metadata": {},
   "outputs": [
    {
     "data": {
      "text/plain": [
       "Gender      0.0\n",
       "age        49.0\n",
       "wbc         5.8\n",
       "hgb        15.2\n",
       "rbc         6.0\n",
       "plt       140.0\n",
       "lym        19.1\n",
       "mid        39.8\n",
       "grand      47.3\n",
       "hct        33.6\n",
       "mcv        72.4\n",
       "mch        28.1\n",
       "mchc       33.0\n",
       "Name: 0, dtype: float64"
      ]
     },
     "execution_count": 312,
     "metadata": {},
     "output_type": "execute_result"
    }
   ],
   "source": [
    "x.iloc[0,:13]"
   ]
  },
  {
   "cell_type": "code",
   "execution_count": 313,
   "metadata": {},
   "outputs": [],
   "source": [
    "x_train,x_test,y_train,y_test=train_test_split(x,y,test_size=0.2,random_state=42)"
   ]
  },
  {
   "cell_type": "code",
   "execution_count": 314,
   "metadata": {},
   "outputs": [
    {
     "name": "stdout",
     "output_type": "stream",
     "text": [
      "(528, 13)\n"
     ]
    }
   ],
   "source": [
    "print(x_train.shape)\n",
    "#len(x_train[0,:])"
   ]
  },
  {
   "cell_type": "code",
   "execution_count": 315,
   "metadata": {},
   "outputs": [],
   "source": [
    "from tensorflow.keras.models import Sequential"
   ]
  },
  {
   "cell_type": "code",
   "execution_count": 316,
   "metadata": {},
   "outputs": [],
   "source": [
    "from tensorflow.keras.layers import Dense"
   ]
  },
  {
   "cell_type": "code",
   "execution_count": 317,
   "metadata": {},
   "outputs": [],
   "source": [
    "model=Sequential()"
   ]
  },
  {
   "cell_type": "code",
   "execution_count": 322,
   "metadata": {},
   "outputs": [],
   "source": [
    "model.add(Dense(12,input_dim=len(x.iloc[0,:13]),activation='relu'))\n",
    "#model.add(Dense(12, input_dim=len(x[1]), activation='relu'))\n",
    "model.add(Dense(6,activation='relu'))\n",
    "model.add(Dense(1,activation='sigmoid'))"
   ]
  },
  {
   "cell_type": "code",
   "execution_count": 323,
   "metadata": {},
   "outputs": [
    {
     "name": "stdout",
     "output_type": "stream",
     "text": [
      "Model: \"sequential_6\"\n",
      "_________________________________________________________________\n",
      " Layer (type)                Output Shape              Param #   \n",
      "=================================================================\n",
      " dense_31 (Dense)            (None, 12)                168       \n",
      "                                                                 \n",
      " dense_32 (Dense)            (None, 6)                 78        \n",
      "                                                                 \n",
      " dense_33 (Dense)            (None, 1)                 7         \n",
      "                                                                 \n",
      "=================================================================\n",
      "Total params: 253\n",
      "Trainable params: 253\n",
      "Non-trainable params: 0\n",
      "_________________________________________________________________\n",
      "None\n"
     ]
    }
   ],
   "source": [
    "print(model.summary())"
   ]
  },
  {
   "cell_type": "code",
   "execution_count": 324,
   "metadata": {},
   "outputs": [],
   "source": [
    "# compile the model\n",
    "\n",
    "model.compile(loss='binary_crossentropy',optimizer='rmsprop',metrics=['accuracy'])"
   ]
  },
  {
   "cell_type": "code",
   "execution_count": 325,
   "metadata": {},
   "outputs": [],
   "source": [
    "#train the model\n",
    "\n",
    "#from keras.callbacks import EarlyStopping , ModelCheckpoint"
   ]
  },
  {
   "cell_type": "code",
   "execution_count": 326,
   "metadata": {},
   "outputs": [],
   "source": [
    "#callback_a = ModelCheckpoint(filepath='my_best_model.hdf5',monitor='val_loss',save_best_only=True)"
   ]
  },
  {
   "cell_type": "code",
   "execution_count": 327,
   "metadata": {},
   "outputs": [],
   "source": [
    "#callback_b=EarlyStopping(monitor='val_loss',mode='min',patience=20,verbose=1)"
   ]
  },
  {
   "cell_type": "code",
   "execution_count": null,
   "metadata": {},
   "outputs": [],
   "source": []
  },
  {
   "cell_type": "code",
   "execution_count": 328,
   "metadata": {},
   "outputs": [
    {
     "name": "stdout",
     "output_type": "stream",
     "text": [
      "Epoch 1/102\n",
      "17/17 [==============================] - 1s 3ms/step - loss: 1.1425 - accuracy: 0.7784\n",
      "Epoch 2/102\n",
      "17/17 [==============================] - 0s 3ms/step - loss: 0.7582 - accuracy: 0.7992\n",
      "Epoch 3/102\n",
      "17/17 [==============================] - 0s 3ms/step - loss: 0.6549 - accuracy: 0.8068\n",
      "Epoch 4/102\n",
      "17/17 [==============================] - 0s 4ms/step - loss: 0.5974 - accuracy: 0.8182\n",
      "Epoch 5/102\n",
      "17/17 [==============================] - 0s 3ms/step - loss: 0.5630 - accuracy: 0.8049\n",
      "Epoch 6/102\n",
      "17/17 [==============================] - 0s 3ms/step - loss: 0.5345 - accuracy: 0.8277\n",
      "Epoch 7/102\n",
      "17/17 [==============================] - 0s 3ms/step - loss: 0.5328 - accuracy: 0.8068\n",
      "Epoch 8/102\n",
      "17/17 [==============================] - 0s 3ms/step - loss: 0.5087 - accuracy: 0.8220\n",
      "Epoch 9/102\n",
      "17/17 [==============================] - 0s 6ms/step - loss: 0.5026 - accuracy: 0.8239\n",
      "Epoch 10/102\n",
      "17/17 [==============================] - 0s 3ms/step - loss: 0.4917 - accuracy: 0.8277\n",
      "Epoch 11/102\n",
      "17/17 [==============================] - 0s 3ms/step - loss: 0.4697 - accuracy: 0.8428\n",
      "Epoch 12/102\n",
      "17/17 [==============================] - 0s 2ms/step - loss: 0.4715 - accuracy: 0.8333\n",
      "Epoch 13/102\n",
      "17/17 [==============================] - 0s 3ms/step - loss: 0.4741 - accuracy: 0.8409\n",
      "Epoch 14/102\n",
      "17/17 [==============================] - 0s 3ms/step - loss: 0.4535 - accuracy: 0.8295\n",
      "Epoch 15/102\n",
      "17/17 [==============================] - 0s 3ms/step - loss: 0.4520 - accuracy: 0.8447\n",
      "Epoch 16/102\n",
      "17/17 [==============================] - 0s 2ms/step - loss: 0.4466 - accuracy: 0.8390\n",
      "Epoch 17/102\n",
      "17/17 [==============================] - 0s 2ms/step - loss: 0.4392 - accuracy: 0.8352\n",
      "Epoch 18/102\n",
      "17/17 [==============================] - 0s 3ms/step - loss: 0.4345 - accuracy: 0.8333\n",
      "Epoch 19/102\n",
      "17/17 [==============================] - 0s 3ms/step - loss: 0.4344 - accuracy: 0.8314\n",
      "Epoch 20/102\n",
      "17/17 [==============================] - 0s 2ms/step - loss: 0.4297 - accuracy: 0.8428\n",
      "Epoch 21/102\n",
      "17/17 [==============================] - 0s 3ms/step - loss: 0.4162 - accuracy: 0.8485\n",
      "Epoch 22/102\n",
      "17/17 [==============================] - 0s 3ms/step - loss: 0.4150 - accuracy: 0.8447\n",
      "Epoch 23/102\n",
      "17/17 [==============================] - 0s 3ms/step - loss: 0.4142 - accuracy: 0.8428\n",
      "Epoch 24/102\n",
      "17/17 [==============================] - 0s 3ms/step - loss: 0.4116 - accuracy: 0.8409\n",
      "Epoch 25/102\n",
      "17/17 [==============================] - 0s 2ms/step - loss: 0.4114 - accuracy: 0.8504\n",
      "Epoch 26/102\n",
      "17/17 [==============================] - 0s 3ms/step - loss: 0.4045 - accuracy: 0.8447\n",
      "Epoch 27/102\n",
      "17/17 [==============================] - 0s 2ms/step - loss: 0.4049 - accuracy: 0.8428\n",
      "Epoch 28/102\n",
      "17/17 [==============================] - 0s 3ms/step - loss: 0.4021 - accuracy: 0.8428\n",
      "Epoch 29/102\n",
      "17/17 [==============================] - 0s 2ms/step - loss: 0.4020 - accuracy: 0.8485\n",
      "Epoch 30/102\n",
      "17/17 [==============================] - 0s 2ms/step - loss: 0.4055 - accuracy: 0.8523\n",
      "Epoch 31/102\n",
      "17/17 [==============================] - 0s 3ms/step - loss: 0.3872 - accuracy: 0.8561\n",
      "Epoch 32/102\n",
      "17/17 [==============================] - 0s 2ms/step - loss: 0.3895 - accuracy: 0.8542\n",
      "Epoch 33/102\n",
      "17/17 [==============================] - 0s 3ms/step - loss: 0.3962 - accuracy: 0.8485\n",
      "Epoch 34/102\n",
      "17/17 [==============================] - 0s 3ms/step - loss: 0.3815 - accuracy: 0.8485\n",
      "Epoch 35/102\n",
      "17/17 [==============================] - 0s 2ms/step - loss: 0.3848 - accuracy: 0.8466\n",
      "Epoch 36/102\n",
      "17/17 [==============================] - 0s 3ms/step - loss: 0.3773 - accuracy: 0.8561\n",
      "Epoch 37/102\n",
      "17/17 [==============================] - 0s 3ms/step - loss: 0.3904 - accuracy: 0.8504\n",
      "Epoch 38/102\n",
      "17/17 [==============================] - 0s 3ms/step - loss: 0.3665 - accuracy: 0.8617\n",
      "Epoch 39/102\n",
      "17/17 [==============================] - 0s 2ms/step - loss: 0.3705 - accuracy: 0.8580\n",
      "Epoch 40/102\n",
      "17/17 [==============================] - 0s 3ms/step - loss: 0.3808 - accuracy: 0.8333\n",
      "Epoch 41/102\n",
      "17/17 [==============================] - 0s 3ms/step - loss: 0.3664 - accuracy: 0.8561\n",
      "Epoch 42/102\n",
      "17/17 [==============================] - 0s 6ms/step - loss: 0.3751 - accuracy: 0.8504\n",
      "Epoch 43/102\n",
      "17/17 [==============================] - 0s 4ms/step - loss: 0.3660 - accuracy: 0.8371\n",
      "Epoch 44/102\n",
      "17/17 [==============================] - 0s 2ms/step - loss: 0.3648 - accuracy: 0.8542\n",
      "Epoch 45/102\n",
      "17/17 [==============================] - 0s 3ms/step - loss: 0.3639 - accuracy: 0.8504\n",
      "Epoch 46/102\n",
      "17/17 [==============================] - 0s 3ms/step - loss: 0.3617 - accuracy: 0.8580\n",
      "Epoch 47/102\n",
      "17/17 [==============================] - 0s 3ms/step - loss: 0.3627 - accuracy: 0.8598\n",
      "Epoch 48/102\n",
      "17/17 [==============================] - 0s 2ms/step - loss: 0.3654 - accuracy: 0.8561\n",
      "Epoch 49/102\n",
      "17/17 [==============================] - 0s 3ms/step - loss: 0.3571 - accuracy: 0.8523\n",
      "Epoch 50/102\n",
      "17/17 [==============================] - 0s 3ms/step - loss: 0.3569 - accuracy: 0.8693\n",
      "Epoch 51/102\n",
      "17/17 [==============================] - 0s 3ms/step - loss: 0.3567 - accuracy: 0.8580\n",
      "Epoch 52/102\n",
      "17/17 [==============================] - 0s 3ms/step - loss: 0.3546 - accuracy: 0.8617\n",
      "Epoch 53/102\n",
      "17/17 [==============================] - 0s 3ms/step - loss: 0.3586 - accuracy: 0.8674\n",
      "Epoch 54/102\n",
      "17/17 [==============================] - 0s 3ms/step - loss: 0.3634 - accuracy: 0.8598\n",
      "Epoch 55/102\n",
      "17/17 [==============================] - 0s 3ms/step - loss: 0.3533 - accuracy: 0.8655\n",
      "Epoch 56/102\n",
      "17/17 [==============================] - 0s 3ms/step - loss: 0.3550 - accuracy: 0.8674\n",
      "Epoch 57/102\n",
      "17/17 [==============================] - 0s 3ms/step - loss: 0.3472 - accuracy: 0.8636\n",
      "Epoch 58/102\n",
      "17/17 [==============================] - 0s 3ms/step - loss: 0.3491 - accuracy: 0.8598\n",
      "Epoch 59/102\n",
      "17/17 [==============================] - 0s 3ms/step - loss: 0.3496 - accuracy: 0.8769\n",
      "Epoch 60/102\n",
      "17/17 [==============================] - 0s 3ms/step - loss: 0.3560 - accuracy: 0.8542\n",
      "Epoch 61/102\n",
      "17/17 [==============================] - 0s 2ms/step - loss: 0.3468 - accuracy: 0.8617\n",
      "Epoch 62/102\n",
      "17/17 [==============================] - 0s 3ms/step - loss: 0.3421 - accuracy: 0.8750\n",
      "Epoch 63/102\n",
      "17/17 [==============================] - 0s 3ms/step - loss: 0.3481 - accuracy: 0.8580\n",
      "Epoch 64/102\n",
      "17/17 [==============================] - 0s 3ms/step - loss: 0.3453 - accuracy: 0.8693\n",
      "Epoch 65/102\n",
      "17/17 [==============================] - 0s 2ms/step - loss: 0.3459 - accuracy: 0.8712\n",
      "Epoch 66/102\n",
      "17/17 [==============================] - 0s 2ms/step - loss: 0.3491 - accuracy: 0.8636\n",
      "Epoch 67/102\n",
      "17/17 [==============================] - 0s 3ms/step - loss: 0.3443 - accuracy: 0.8655\n",
      "Epoch 68/102\n",
      "17/17 [==============================] - 0s 3ms/step - loss: 0.3486 - accuracy: 0.8712\n",
      "Epoch 69/102\n",
      "17/17 [==============================] - 0s 3ms/step - loss: 0.3479 - accuracy: 0.8693\n",
      "Epoch 70/102\n",
      "17/17 [==============================] - 0s 3ms/step - loss: 0.3416 - accuracy: 0.8655\n",
      "Epoch 71/102\n",
      "17/17 [==============================] - 0s 6ms/step - loss: 0.3404 - accuracy: 0.8693\n",
      "Epoch 72/102\n",
      "17/17 [==============================] - 0s 3ms/step - loss: 0.3427 - accuracy: 0.8731\n",
      "Epoch 73/102\n",
      "17/17 [==============================] - 0s 2ms/step - loss: 0.3432 - accuracy: 0.8693\n",
      "Epoch 74/102\n",
      "17/17 [==============================] - 0s 3ms/step - loss: 0.3424 - accuracy: 0.8674\n",
      "Epoch 75/102\n",
      "17/17 [==============================] - 0s 2ms/step - loss: 0.3389 - accuracy: 0.8674\n",
      "Epoch 76/102\n",
      "17/17 [==============================] - 0s 3ms/step - loss: 0.3380 - accuracy: 0.8788\n",
      "Epoch 77/102\n",
      "17/17 [==============================] - 0s 3ms/step - loss: 0.3422 - accuracy: 0.8674\n",
      "Epoch 78/102\n",
      "17/17 [==============================] - 0s 3ms/step - loss: 0.3310 - accuracy: 0.8750\n",
      "Epoch 79/102\n",
      "17/17 [==============================] - 0s 2ms/step - loss: 0.3359 - accuracy: 0.8750\n",
      "Epoch 80/102\n",
      "17/17 [==============================] - 0s 2ms/step - loss: 0.3381 - accuracy: 0.8712\n",
      "Epoch 81/102\n",
      "17/17 [==============================] - 0s 2ms/step - loss: 0.3461 - accuracy: 0.8712\n",
      "Epoch 82/102\n",
      "17/17 [==============================] - 0s 3ms/step - loss: 0.3332 - accuracy: 0.8674\n",
      "Epoch 83/102\n",
      "17/17 [==============================] - 0s 3ms/step - loss: 0.3329 - accuracy: 0.8769\n",
      "Epoch 84/102\n",
      "17/17 [==============================] - 0s 3ms/step - loss: 0.3357 - accuracy: 0.8750\n",
      "Epoch 85/102\n",
      "17/17 [==============================] - 0s 3ms/step - loss: 0.3352 - accuracy: 0.8826\n",
      "Epoch 86/102\n",
      "17/17 [==============================] - 0s 2ms/step - loss: 0.3378 - accuracy: 0.8674\n",
      "Epoch 87/102\n",
      "17/17 [==============================] - 0s 3ms/step - loss: 0.3299 - accuracy: 0.8769\n",
      "Epoch 88/102\n",
      "17/17 [==============================] - 0s 3ms/step - loss: 0.3285 - accuracy: 0.8807\n",
      "Epoch 89/102\n",
      "17/17 [==============================] - 0s 3ms/step - loss: 0.3319 - accuracy: 0.8636\n",
      "Epoch 90/102\n",
      "17/17 [==============================] - 0s 3ms/step - loss: 0.3348 - accuracy: 0.8788\n",
      "Epoch 91/102\n",
      "17/17 [==============================] - 0s 3ms/step - loss: 0.3344 - accuracy: 0.8693\n",
      "Epoch 92/102\n",
      "17/17 [==============================] - 0s 3ms/step - loss: 0.3288 - accuracy: 0.8769\n",
      "Epoch 93/102\n",
      "17/17 [==============================] - 0s 2ms/step - loss: 0.3307 - accuracy: 0.8807\n",
      "Epoch 94/102\n",
      "17/17 [==============================] - 0s 3ms/step - loss: 0.3270 - accuracy: 0.8902\n",
      "Epoch 95/102\n",
      "17/17 [==============================] - 0s 3ms/step - loss: 0.3403 - accuracy: 0.8655\n",
      "Epoch 96/102\n",
      "17/17 [==============================] - 0s 6ms/step - loss: 0.3241 - accuracy: 0.8693\n",
      "Epoch 97/102\n",
      "17/17 [==============================] - 0s 2ms/step - loss: 0.3317 - accuracy: 0.8750\n",
      "Epoch 98/102\n",
      "17/17 [==============================] - 0s 3ms/step - loss: 0.3340 - accuracy: 0.8731\n",
      "Epoch 99/102\n",
      "17/17 [==============================] - 0s 3ms/step - loss: 0.3334 - accuracy: 0.8731\n",
      "Epoch 100/102\n",
      "17/17 [==============================] - 0s 3ms/step - loss: 0.3368 - accuracy: 0.8769\n",
      "Epoch 101/102\n",
      "17/17 [==============================] - 0s 2ms/step - loss: 0.3285 - accuracy: 0.8769\n",
      "Epoch 102/102\n",
      "17/17 [==============================] - 0s 3ms/step - loss: 0.3359 - accuracy: 0.8788\n"
     ]
    },
    {
     "data": {
      "text/plain": [
       "<keras.callbacks.History at 0x1949ff5ada0>"
      ]
     },
     "execution_count": 328,
     "metadata": {},
     "output_type": "execute_result"
    }
   ],
   "source": [
    "model.fit(x=x_train,y=y_train,epochs=102,verbose=1)"
   ]
  },
  {
   "cell_type": "code",
   "execution_count": 329,
   "metadata": {},
   "outputs": [],
   "source": [
    "#mean=x.mean(axis=0)\n",
    "#x-=mean()\n",
    "#std=x.std(axis=0)\n",
    "#x/=std"
   ]
  },
  {
   "cell_type": "code",
   "execution_count": 330,
   "metadata": {},
   "outputs": [],
   "source": [
    "keras_file='Linear.h5'\n",
    "import tensorflow as tf\n",
    "tf.keras.models.save_model(model,keras_file)"
   ]
  },
  {
   "cell_type": "code",
   "execution_count": 331,
   "metadata": {},
   "outputs": [],
   "source": [
    "from tensorflow import lite"
   ]
  },
  {
   "cell_type": "code",
   "execution_count": 332,
   "metadata": {},
   "outputs": [],
   "source": [
    "converter=lite.TFLiteConverter.from_keras_model(model)"
   ]
  },
  {
   "cell_type": "code",
   "execution_count": 334,
   "metadata": {},
   "outputs": [
    {
     "name": "stderr",
     "output_type": "stream",
     "text": [
      "WARNING:absl:Found untraced functions such as _update_step_xla while saving (showing 1 of 1). These functions will not be directly callable after loading.\n"
     ]
    },
    {
     "name": "stdout",
     "output_type": "stream",
     "text": [
      "INFO:tensorflow:Assets written to: C:\\Users\\MUHAMM~1\\AppData\\Local\\Temp\\tmp9xmn0c4t\\assets\n"
     ]
    },
    {
     "name": "stderr",
     "output_type": "stream",
     "text": [
      "INFO:tensorflow:Assets written to: C:\\Users\\MUHAMM~1\\AppData\\Local\\Temp\\tmp9xmn0c4t\\assets\n"
     ]
    }
   ],
   "source": [
    "tfmodel=converter.convert()"
   ]
  },
  {
   "cell_type": "code",
   "execution_count": 337,
   "metadata": {},
   "outputs": [],
   "source": [
    "\n",
    "\n",
    "# save the TensorFlow Lite model to a file\n",
    "\n",
    "\n",
    "\n",
    "\n",
    "\n",
    "\n",
    "\n",
    "\n",
    "\n",
    "\n",
    "\n",
    "\n",
    "\n",
    "\n",
    "\n",
    "\n",
    "\n",
    "\n",
    "\n",
    "\n",
    "\n",
    "\n",
    "\n",
    "\n",
    "\n",
    "\n",
    "\n",
    "\n",
    "\n",
    "\n",
    "\n",
    "\n",
    "\n",
    "\n",
    "\n",
    "\n",
    "\n",
    "\n",
    "\n",
    "\n",
    "\n",
    "\n",
    "\n",
    "\n",
    "\n",
    "\n",
    "\n",
    "\n",
    "\n",
    "\n",
    "\n",
    "\n",
    "\n",
    "\n",
    "\n",
    "\n",
    "\n",
    "\n",
    "\n",
    "\n",
    "\n",
    "\n",
    "\n",
    "\n",
    "\n",
    "\n",
    "\n",
    "\n",
    "\n",
    "\n",
    "\n",
    "\n",
    "\n",
    "\n",
    "\n",
    "\n",
    "\n",
    "\n",
    "\n",
    "\n",
    "\n",
    "\n",
    "\n",
    "\n",
    "\n",
    "\n",
    "\n",
    "\n",
    "\n",
    "\n",
    "\n",
    "\n",
    "\n",
    "\n",
    "\n",
    "\n",
    "\n",
    "\n",
    "\n",
    "\n",
    "\n",
    "\n",
    "\n",
    "\n",
    "\n",
    "\n",
    "\n",
    "\n",
    "\n",
    "\n",
    "\n",
    "\n",
    "\n",
    "\n",
    "\n",
    "\n",
    "\n",
    "\n",
    "\n",
    "\n",
    "\n",
    "\n",
    "\n",
    "\n",
    "\n",
    "\n",
    "\n",
    "\n",
    "\n",
    "\n",
    "\n",
    "\n",
    "\n",
    "\n",
    "\n",
    "\n",
    "\n",
    "\n",
    "\n",
    "\n",
    "\n",
    "\n",
    "\n",
    "\n",
    "\n",
    "\n",
    "\n",
    "with open('model.tfmodel', 'wb') as f:\n",
    "    f.write(tfmodel)"
   ]
  },
  {
   "cell_type": "code",
   "execution_count": 18,
   "metadata": {},
   "outputs": [],
   "source": [
    "model=tensorflow.keras.models.load_model(\"linear.h5\")"
   ]
  },
  {
   "cell_type": "code",
   "execution_count": 21,
   "metadata": {},
   "outputs": [
    {
     "name": "stdout",
     "output_type": "stream",
     "text": [
      "1/1 [==============================] - 0s 72ms/step\n",
      "positive\n"
     ]
    }
   ],
   "source": [
    "output_data= model.predict([[0.0,49.0,5.8,15.2,6.0,140.0,19.1,39.8,47.3,33.6,72.4,28.1,33.0]])\n",
    "# Set the threshold value\n",
    "threshold = 0.5\n",
    "\n",
    "# Convert the probability score to a binary prediction\n",
    "if output_data[0][0] >= threshold:\n",
    "    predicted_class = \"positive\"\n",
    "else:\n",
    "    predicted_class = 'negative'\n",
    "\n",
    "# Print the predicted class\n",
    "print(predicted_class)"
   ]
  },
  {
   "cell_type": "code",
   "execution_count": 20,
   "metadata": {},
   "outputs": [
    {
     "name": "stdout",
     "output_type": "stream",
     "text": [
      "positive\n"
     ]
    }
   ],
   "source": [
    "import numpy as np\n",
    "import tensorflow as tf\n",
    "\n",
    "# Load the TensorFlow Lite model\n",
    "interpreter = tf.lite.Interpreter(model_path=\"model.tfmodel\")\n",
    "interpreter.allocate_tensors()\n",
    "\n",
    "# Get input and output tensors\n",
    "input_details = interpreter.get_input_details()\n",
    "output_details = interpreter.get_output_details()\n",
    "\n",
    "# Create an input tensor from your real-time data\n",
    "input_data = np.array([[0.0, 49.0, 5.8, 15.2, 6.0, 140.0, 19.1, 39.8, 47.3, 33.6, 72.4, 28.1, 33.0]], dtype=np.float32)\n",
    "\n",
    "# Set the input tensor\n",
    "interpreter.set_tensor(input_details[0]['index'], input_data)\n",
    "\n",
    "# Run inference\n",
    "interpreter.invoke()\n",
    "\n",
    "# Get the output tensor\n",
    "output_data = interpreter.get_tensor(output_details[0]['index'])\n",
    "\n",
    "# Set the threshold value\n",
    "threshold = 0.5\n",
    "\n",
    "# Convert the probability score to a binary prediction\n",
    "if output_data[0][0] >= threshold:\n",
    "    predicted_class = \"positive\"\n",
    "else:\n",
    "    predicted_class = 'negative'\n",
    "\n",
    "# Print the predicted class\n",
    "print(predicted_class)\n"
   ]
  },
  {
   "cell_type": "code",
   "execution_count": 2,
   "metadata": {},
   "outputs": [],
   "source": [
    "from flask import Flask , request"
   ]
  },
  {
   "cell_type": "code",
   "execution_count": 7,
   "metadata": {},
   "outputs": [
    {
     "name": "stdout",
     "output_type": "stream",
     "text": [
      " * Serving Flask app '__main__'\n",
      " * Debug mode: on\n"
     ]
    },
    {
     "name": "stderr",
     "output_type": "stream",
     "text": [
      "WARNING: This is a development server. Do not use it in a production deployment. Use a production WSGI server instead.\n",
      " * Running on http://127.0.0.1:5000\n",
      "Press CTRL+C to quit\n",
      " * Restarting with watchdog (windowsapi)\n"
     ]
    },
    {
     "ename": "SystemExit",
     "evalue": "1",
     "output_type": "error",
     "traceback": [
      "An exception has occurred, use %tb to see the full traceback.\n",
      "\u001b[1;31mSystemExit\u001b[0m\u001b[1;31m:\u001b[0m 1\n"
     ]
    }
   ],
   "source": [
    "from flask import Flask , request\n",
    "app= Flask(__name__)\n",
    "@app.route('/')\n",
    "def home():\n",
    "    return 'hello world'\n",
    "@app.route('/predict,method=['POST'])\n",
    "def predict():\n",
    "\n",
    "if __name__ == '__main__':\n",
    "    app.run(debug=True)"
   ]
  },
  {
   "cell_type": "code",
   "execution_count": 9,
   "metadata": {},
   "outputs": [
    {
     "name": "stdout",
     "output_type": "stream",
     "text": [
      " * Serving Flask app '__main__'\n",
      " * Debug mode: on\n"
     ]
    },
    {
     "name": "stderr",
     "output_type": "stream",
     "text": [
      "WARNING: This is a development server. Do not use it in a production deployment. Use a production WSGI server instead.\n",
      " * Running on http://127.0.0.1:5000\n",
      "Press CTRL+C to quit\n",
      " * Restarting with watchdog (windowsapi)\n"
     ]
    },
    {
     "ename": "SystemExit",
     "evalue": "1",
     "output_type": "error",
     "traceback": [
      "An exception has occurred, use %tb to see the full traceback.\n",
      "\u001b[1;31mSystemExit\u001b[0m\u001b[1;31m:\u001b[0m 1\n"
     ]
    },
    {
     "name": "stderr",
     "output_type": "stream",
     "text": [
      "c:\\Users\\Muhammad Faizan\\anaconda3\\envs\\streamlit\\lib\\site-packages\\IPython\\core\\interactiveshell.py:3468: UserWarning: To exit: use 'exit', 'quit', or Ctrl-D.\n",
      "  warn(\"To exit: use 'exit', 'quit', or Ctrl-D.\", stacklevel=1)\n"
     ]
    }
   ],
   "source": [
    "from flask import Flask, request\n",
    "\n",
    "app = Flask(__name__)\n",
    "\n",
    "@app.route('/')\n",
    "def home():\n",
    "    return 'Hello, World!'\n",
    "\n",
    "#@app.route('/predict', methods=['POST'])\n",
    "#def predict():\n",
    "    # Your prediction logic goes here\n",
    "    #return 'Prediction result'\n",
    "\n",
    "if __name__ == '__main__':\n",
    "    app.run(debug=True)\n"
   ]
  }
 ],
 "metadata": {
  "kernelspec": {
   "display_name": "streamlit",
   "language": "python",
   "name": "python3"
  },
  "language_info": {
   "codemirror_mode": {
    "name": "ipython",
    "version": 3
   },
   "file_extension": ".py",
   "mimetype": "text/x-python",
   "name": "python",
   "nbconvert_exporter": "python",
   "pygments_lexer": "ipython3",
   "version": "3.10.9"
  },
  "orig_nbformat": 4,
  "vscode": {
   "interpreter": {
    "hash": "4d7c758384b81bad4bbcfd0eba96290fe50f8e36e0fc35b6a04c0b70d0e40436"
   }
  }
 },
 "nbformat": 4,
 "nbformat_minor": 2
}
